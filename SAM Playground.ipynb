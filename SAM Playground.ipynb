{
 "cells": [
  {
   "cell_type": "markdown",
   "metadata": {
    "application/vnd.databricks.v1+cell": {
     "cellMetadata": {
      "byteLimit": 2048000,
      "rowLimit": 10000
     },
     "inputWidgets": {},
     "nuid": "0ff0ab9d-336a-4471-a0b8-0ddb30187886",
     "showTitle": false,
     "title": ""
    }
   },
   "source": [
    "#Sample Shock Analysis Based on a SAM Table"
   ]
  },
  {
   "cell_type": "code",
   "execution_count": 0,
   "metadata": {
    "application/vnd.databricks.v1+cell": {
     "cellMetadata": {
      "byteLimit": 2048000,
      "rowLimit": 10000
     },
     "inputWidgets": {},
     "nuid": "29a4a51e-0c18-453c-abb4-5587b6d395d6",
     "showTitle": false,
     "title": ""
    }
   },
   "outputs": [],
   "source": [
    "import numpy as np\n",
    "import pandas as pd"
   ]
  },
  {
   "cell_type": "markdown",
   "metadata": {
    "application/vnd.databricks.v1+cell": {
     "cellMetadata": {
      "byteLimit": 2048000,
      "rowLimit": 10000
     },
     "inputWidgets": {},
     "nuid": "d51504d0-0b5b-4be9-992e-106263fddecd",
     "showTitle": false,
     "title": ""
    }
   },
   "source": [
    "Step 1. Define the SAM matrix."
   ]
  },
  {
   "cell_type": "code",
   "execution_count": 0,
   "metadata": {
    "application/vnd.databricks.v1+cell": {
     "cellMetadata": {
      "byteLimit": 2048000,
      "rowLimit": 10000
     },
     "inputWidgets": {},
     "nuid": "0a8a2429-2d15-4b70-bd0f-4705f4274b36",
     "showTitle": false,
     "title": ""
    }
   },
   "outputs": [
    {
     "output_type": "display_data",
     "data": {
      "text/html": [
       "<style scoped>\n",
       "  .table-result-container {\n",
       "    max-height: 300px;\n",
       "    overflow: auto;\n",
       "  }\n",
       "  table, th, td {\n",
       "    border: 1px solid black;\n",
       "    border-collapse: collapse;\n",
       "  }\n",
       "  th, td {\n",
       "    padding: 5px;\n",
       "  }\n",
       "  th {\n",
       "    text-align: left;\n",
       "  }\n",
       "</style><div class='table-result-container'><table class='table-result'><thead style='background-color: white'><tr><th>Agriculture</th><th>Manufacturing</th><th>Services</th><th>Households</th><th>Government</th></tr></thead><tbody><tr><td>0</td><td>50</td><td>30</td><td>60</td><td>20</td></tr><tr><td>40</td><td>0</td><td>70</td><td>90</td><td>30</td></tr><tr><td>30</td><td>50</td><td>0</td><td>80</td><td>40</td></tr><tr><td>60</td><td>90</td><td>80</td><td>0</td><td>60</td></tr><tr><td>20</td><td>30</td><td>40</td><td>60</td><td>0</td></tr></tbody></table></div>"
      ]
     },
     "metadata": {
      "application/vnd.databricks.v1+output": {
       "addedWidgets": {},
       "aggData": [],
       "aggError": "",
       "aggOverflow": false,
       "aggSchema": [],
       "aggSeriesLimitReached": false,
       "aggType": "",
       "arguments": {},
       "columnCustomDisplayInfos": {},
       "data": [
        [
         0,
         50,
         30,
         60,
         20
        ],
        [
         40,
         0,
         70,
         90,
         30
        ],
        [
         30,
         50,
         0,
         80,
         40
        ],
        [
         60,
         90,
         80,
         0,
         60
        ],
        [
         20,
         30,
         40,
         60,
         0
        ]
       ],
       "datasetInfos": [],
       "dbfsResultPath": null,
       "isJsonSchema": true,
       "metadata": {},
       "overflow": false,
       "plotOptions": {
        "customPlotOptions": {},
        "displayType": "table",
        "pivotAggregation": null,
        "pivotColumns": null,
        "xColumns": null,
        "yColumns": null
       },
       "removedWidgets": [],
       "schema": [
        {
         "metadata": "{}",
         "name": "Agriculture",
         "type": "\"long\""
        },
        {
         "metadata": "{}",
         "name": "Manufacturing",
         "type": "\"long\""
        },
        {
         "metadata": "{}",
         "name": "Services",
         "type": "\"long\""
        },
        {
         "metadata": "{}",
         "name": "Households",
         "type": "\"long\""
        },
        {
         "metadata": "{}",
         "name": "Government",
         "type": "\"long\""
        }
       ],
       "type": "table"
      }
     },
     "output_type": "display_data"
    }
   ],
   "source": [
    "# Adjusted 5x5 SAM data with zeros on the main diagonal\n",
    "sam_matrix = np.array([\n",
    "    [0, 50, 30, 60, 20],\n",
    "    [40, 0, 70, 90, 30],\n",
    "    [30, 50, 0, 80, 40],\n",
    "    [60, 90, 80, 0, 60],\n",
    "    [20, 30, 40, 60, 0]\n",
    "])\n",
    "# Create a Pandas DataFrame\n",
    "columns = ['Agriculture', 'Manufacturing', 'Services', 'Households', 'Government']\n",
    "sam_df = pd.DataFrame(sam_matrix, columns=columns, index=columns)\n",
    "display(sam_df)"
   ]
  },
  {
   "cell_type": "code",
   "execution_count": 0,
   "metadata": {
    "application/vnd.databricks.v1+cell": {
     "cellMetadata": {
      "byteLimit": 2048000,
      "rowLimit": 10000
     },
     "inputWidgets": {},
     "nuid": "7f85038b-32f1-4093-9e79-90694338015d",
     "showTitle": false,
     "title": ""
    }
   },
   "outputs": [
    {
     "output_type": "display_data",
     "data": {
      "text/html": [
       "<style scoped>\n",
       "  .table-result-container {\n",
       "    max-height: 300px;\n",
       "    overflow: auto;\n",
       "  }\n",
       "  table, th, td {\n",
       "    border: 1px solid black;\n",
       "    border-collapse: collapse;\n",
       "  }\n",
       "  th, td {\n",
       "    padding: 5px;\n",
       "  }\n",
       "  th {\n",
       "    text-align: left;\n",
       "  }\n",
       "</style><div class='table-result-container'><table class='table-result'><thead style='background-color: white'><tr><th>Agriculture</th><th>Manufacturing</th><th>Services</th><th>Households</th><th>Government</th></tr></thead><tbody><tr><td>0</td><td>50</td><td>30</td><td>60</td><td>20</td></tr><tr><td>40</td><td>0</td><td>70</td><td>90</td><td>30</td></tr><tr><td>30</td><td>50</td><td>0</td><td>80</td><td>40</td></tr><tr><td>60</td><td>90</td><td>80</td><td>0</td><td>60</td></tr><tr><td>20</td><td>30</td><td>40</td><td>60</td><td>0</td></tr></tbody></table></div>"
      ]
     },
     "metadata": {
      "application/vnd.databricks.v1+output": {
       "addedWidgets": {},
       "aggData": [],
       "aggError": "",
       "aggOverflow": false,
       "aggSchema": [],
       "aggSeriesLimitReached": false,
       "aggType": "",
       "arguments": {},
       "columnCustomDisplayInfos": {},
       "data": [
        [
         0,
         50,
         30,
         60,
         20
        ],
        [
         40,
         0,
         70,
         90,
         30
        ],
        [
         30,
         50,
         0,
         80,
         40
        ],
        [
         60,
         90,
         80,
         0,
         60
        ],
        [
         20,
         30,
         40,
         60,
         0
        ]
       ],
       "datasetInfos": [],
       "dbfsResultPath": null,
       "isJsonSchema": true,
       "metadata": {},
       "overflow": false,
       "plotOptions": {
        "customPlotOptions": {},
        "displayType": "table",
        "pivotAggregation": null,
        "pivotColumns": null,
        "xColumns": null,
        "yColumns": null
       },
       "removedWidgets": [],
       "schema": [
        {
         "metadata": "{}",
         "name": "Agriculture",
         "type": "\"integer\""
        },
        {
         "metadata": "{}",
         "name": "Manufacturing",
         "type": "\"integer\""
        },
        {
         "metadata": "{}",
         "name": "Services",
         "type": "\"integer\""
        },
        {
         "metadata": "{}",
         "name": "Households",
         "type": "\"integer\""
        },
        {
         "metadata": "{}",
         "name": "Government",
         "type": "\"integer\""
        }
       ],
       "type": "table"
      }
     },
     "output_type": "display_data"
    }
   ],
   "source": [
    "from pyspark.sql.types import IntegerType, StructType, StructField\n",
    "\n",
    "# Column names\n",
    "columns = ['Agriculture', 'Manufacturing', 'Services', 'Households', 'Government']\n",
    "\n",
    "# Convert the NumPy array to a list of tuples and cast the values to int\n",
    "sam_list = [tuple(int(value) for value in row) for row in sam_matrix]\n",
    "\n",
    "# Create the schema for the Spark DataFrame\n",
    "schema = StructType([StructField(column, IntegerType(), nullable=True) for column in columns])\n",
    "\n",
    "# Create a Spark DataFrame directly from the list of tuples and the schema\n",
    "sam_spark_df = spark.createDataFrame(sam_list, schema=schema)\n",
    "\n",
    "# Display the Spark DataFrame\n",
    "display(sam_spark_df)"
   ]
  },
  {
   "cell_type": "markdown",
   "metadata": {
    "application/vnd.databricks.v1+cell": {
     "cellMetadata": {
      "byteLimit": 2048000,
      "rowLimit": 10000
     },
     "inputWidgets": {},
     "nuid": "bcc9ac21-9495-44de-a43e-67dbde1e4ba4",
     "showTitle": false,
     "title": ""
    }
   },
   "source": [
    "Step 2. Convert the SAM matrix into a Databricks dataframe. Use the long format."
   ]
  },
  {
   "cell_type": "code",
   "execution_count": 0,
   "metadata": {
    "application/vnd.databricks.v1+cell": {
     "cellMetadata": {
      "byteLimit": 2048000,
      "rowLimit": 10000
     },
     "inputWidgets": {},
     "nuid": "88c4a0e0-1446-4d41-b93e-9e7627948d87",
     "showTitle": false,
     "title": ""
    }
   },
   "outputs": [
    {
     "output_type": "display_data",
     "data": {
      "text/html": [
       "<style scoped>\n",
       "  .table-result-container {\n",
       "    max-height: 300px;\n",
       "    overflow: auto;\n",
       "  }\n",
       "  table, th, td {\n",
       "    border: 1px solid black;\n",
       "    border-collapse: collapse;\n",
       "  }\n",
       "  th, td {\n",
       "    padding: 5px;\n",
       "  }\n",
       "  th {\n",
       "    text-align: left;\n",
       "  }\n",
       "</style><div class='table-result-container'><table class='table-result'><thead style='background-color: white'><tr><th>Row</th><th>Column</th><th>Value</th></tr></thead><tbody><tr><td>Agriculture</td><td>Agriculture</td><td>0</td></tr><tr><td>Agriculture</td><td>Manufacturing</td><td>50</td></tr><tr><td>Agriculture</td><td>Services</td><td>30</td></tr><tr><td>Agriculture</td><td>Households</td><td>60</td></tr><tr><td>Agriculture</td><td>Government</td><td>20</td></tr><tr><td>Manufacturing</td><td>Agriculture</td><td>0</td></tr><tr><td>Manufacturing</td><td>Manufacturing</td><td>50</td></tr><tr><td>Manufacturing</td><td>Services</td><td>30</td></tr><tr><td>Manufacturing</td><td>Households</td><td>60</td></tr><tr><td>Manufacturing</td><td>Government</td><td>20</td></tr><tr><td>Services</td><td>Agriculture</td><td>0</td></tr><tr><td>Services</td><td>Manufacturing</td><td>50</td></tr><tr><td>Services</td><td>Services</td><td>30</td></tr><tr><td>Services</td><td>Households</td><td>60</td></tr><tr><td>Services</td><td>Government</td><td>20</td></tr><tr><td>Households</td><td>Agriculture</td><td>0</td></tr><tr><td>Households</td><td>Manufacturing</td><td>50</td></tr><tr><td>Households</td><td>Services</td><td>30</td></tr><tr><td>Households</td><td>Households</td><td>60</td></tr><tr><td>Households</td><td>Government</td><td>20</td></tr><tr><td>Government</td><td>Agriculture</td><td>0</td></tr><tr><td>Government</td><td>Manufacturing</td><td>50</td></tr><tr><td>Government</td><td>Services</td><td>30</td></tr><tr><td>Government</td><td>Households</td><td>60</td></tr><tr><td>Government</td><td>Government</td><td>20</td></tr><tr><td>Agriculture</td><td>Agriculture</td><td>40</td></tr><tr><td>Agriculture</td><td>Manufacturing</td><td>0</td></tr><tr><td>Agriculture</td><td>Services</td><td>70</td></tr><tr><td>Agriculture</td><td>Households</td><td>90</td></tr><tr><td>Agriculture</td><td>Government</td><td>30</td></tr><tr><td>Manufacturing</td><td>Agriculture</td><td>40</td></tr><tr><td>Manufacturing</td><td>Manufacturing</td><td>0</td></tr><tr><td>Manufacturing</td><td>Services</td><td>70</td></tr><tr><td>Manufacturing</td><td>Households</td><td>90</td></tr><tr><td>Manufacturing</td><td>Government</td><td>30</td></tr><tr><td>Services</td><td>Agriculture</td><td>40</td></tr><tr><td>Services</td><td>Manufacturing</td><td>0</td></tr><tr><td>Services</td><td>Services</td><td>70</td></tr><tr><td>Services</td><td>Households</td><td>90</td></tr><tr><td>Services</td><td>Government</td><td>30</td></tr><tr><td>Households</td><td>Agriculture</td><td>40</td></tr><tr><td>Households</td><td>Manufacturing</td><td>0</td></tr><tr><td>Households</td><td>Services</td><td>70</td></tr><tr><td>Households</td><td>Households</td><td>90</td></tr><tr><td>Households</td><td>Government</td><td>30</td></tr><tr><td>Government</td><td>Agriculture</td><td>40</td></tr><tr><td>Government</td><td>Manufacturing</td><td>0</td></tr><tr><td>Government</td><td>Services</td><td>70</td></tr><tr><td>Government</td><td>Households</td><td>90</td></tr><tr><td>Government</td><td>Government</td><td>30</td></tr><tr><td>Agriculture</td><td>Agriculture</td><td>30</td></tr><tr><td>Agriculture</td><td>Manufacturing</td><td>50</td></tr><tr><td>Agriculture</td><td>Services</td><td>0</td></tr><tr><td>Agriculture</td><td>Households</td><td>80</td></tr><tr><td>Agriculture</td><td>Government</td><td>40</td></tr><tr><td>Manufacturing</td><td>Agriculture</td><td>30</td></tr><tr><td>Manufacturing</td><td>Manufacturing</td><td>50</td></tr><tr><td>Manufacturing</td><td>Services</td><td>0</td></tr><tr><td>Manufacturing</td><td>Households</td><td>80</td></tr><tr><td>Manufacturing</td><td>Government</td><td>40</td></tr><tr><td>Services</td><td>Agriculture</td><td>30</td></tr><tr><td>Services</td><td>Manufacturing</td><td>50</td></tr><tr><td>Services</td><td>Services</td><td>0</td></tr><tr><td>Services</td><td>Households</td><td>80</td></tr><tr><td>Services</td><td>Government</td><td>40</td></tr><tr><td>Households</td><td>Agriculture</td><td>30</td></tr><tr><td>Households</td><td>Manufacturing</td><td>50</td></tr><tr><td>Households</td><td>Services</td><td>0</td></tr><tr><td>Households</td><td>Households</td><td>80</td></tr><tr><td>Households</td><td>Government</td><td>40</td></tr><tr><td>Government</td><td>Agriculture</td><td>30</td></tr><tr><td>Government</td><td>Manufacturing</td><td>50</td></tr><tr><td>Government</td><td>Services</td><td>0</td></tr><tr><td>Government</td><td>Households</td><td>80</td></tr><tr><td>Government</td><td>Government</td><td>40</td></tr><tr><td>Agriculture</td><td>Agriculture</td><td>60</td></tr><tr><td>Agriculture</td><td>Manufacturing</td><td>90</td></tr><tr><td>Agriculture</td><td>Services</td><td>80</td></tr><tr><td>Agriculture</td><td>Households</td><td>0</td></tr><tr><td>Agriculture</td><td>Government</td><td>60</td></tr><tr><td>Manufacturing</td><td>Agriculture</td><td>60</td></tr><tr><td>Manufacturing</td><td>Manufacturing</td><td>90</td></tr><tr><td>Manufacturing</td><td>Services</td><td>80</td></tr><tr><td>Manufacturing</td><td>Households</td><td>0</td></tr><tr><td>Manufacturing</td><td>Government</td><td>60</td></tr><tr><td>Services</td><td>Agriculture</td><td>60</td></tr><tr><td>Services</td><td>Manufacturing</td><td>90</td></tr><tr><td>Services</td><td>Services</td><td>80</td></tr><tr><td>Services</td><td>Households</td><td>0</td></tr><tr><td>Services</td><td>Government</td><td>60</td></tr><tr><td>Households</td><td>Agriculture</td><td>60</td></tr><tr><td>Households</td><td>Manufacturing</td><td>90</td></tr><tr><td>Households</td><td>Services</td><td>80</td></tr><tr><td>Households</td><td>Households</td><td>0</td></tr><tr><td>Households</td><td>Government</td><td>60</td></tr><tr><td>Government</td><td>Agriculture</td><td>60</td></tr><tr><td>Government</td><td>Manufacturing</td><td>90</td></tr><tr><td>Government</td><td>Services</td><td>80</td></tr><tr><td>Government</td><td>Households</td><td>0</td></tr><tr><td>Government</td><td>Government</td><td>60</td></tr><tr><td>Agriculture</td><td>Agriculture</td><td>20</td></tr><tr><td>Agriculture</td><td>Manufacturing</td><td>30</td></tr><tr><td>Agriculture</td><td>Services</td><td>40</td></tr><tr><td>Agriculture</td><td>Households</td><td>60</td></tr><tr><td>Agriculture</td><td>Government</td><td>0</td></tr><tr><td>Manufacturing</td><td>Agriculture</td><td>20</td></tr><tr><td>Manufacturing</td><td>Manufacturing</td><td>30</td></tr><tr><td>Manufacturing</td><td>Services</td><td>40</td></tr><tr><td>Manufacturing</td><td>Households</td><td>60</td></tr><tr><td>Manufacturing</td><td>Government</td><td>0</td></tr><tr><td>Services</td><td>Agriculture</td><td>20</td></tr><tr><td>Services</td><td>Manufacturing</td><td>30</td></tr><tr><td>Services</td><td>Services</td><td>40</td></tr><tr><td>Services</td><td>Households</td><td>60</td></tr><tr><td>Services</td><td>Government</td><td>0</td></tr><tr><td>Households</td><td>Agriculture</td><td>20</td></tr><tr><td>Households</td><td>Manufacturing</td><td>30</td></tr><tr><td>Households</td><td>Services</td><td>40</td></tr><tr><td>Households</td><td>Households</td><td>60</td></tr><tr><td>Households</td><td>Government</td><td>0</td></tr><tr><td>Government</td><td>Agriculture</td><td>20</td></tr><tr><td>Government</td><td>Manufacturing</td><td>30</td></tr><tr><td>Government</td><td>Services</td><td>40</td></tr><tr><td>Government</td><td>Households</td><td>60</td></tr><tr><td>Government</td><td>Government</td><td>0</td></tr></tbody></table></div>"
      ]
     },
     "metadata": {
      "application/vnd.databricks.v1+output": {
       "addedWidgets": {},
       "aggData": [],
       "aggError": "",
       "aggOverflow": false,
       "aggSchema": [],
       "aggSeriesLimitReached": false,
       "aggType": "",
       "arguments": {},
       "columnCustomDisplayInfos": {},
       "data": [
        [
         "Agriculture",
         "Agriculture",
         0
        ],
        [
         "Agriculture",
         "Manufacturing",
         50
        ],
        [
         "Agriculture",
         "Services",
         30
        ],
        [
         "Agriculture",
         "Households",
         60
        ],
        [
         "Agriculture",
         "Government",
         20
        ],
        [
         "Manufacturing",
         "Agriculture",
         0
        ],
        [
         "Manufacturing",
         "Manufacturing",
         50
        ],
        [
         "Manufacturing",
         "Services",
         30
        ],
        [
         "Manufacturing",
         "Households",
         60
        ],
        [
         "Manufacturing",
         "Government",
         20
        ],
        [
         "Services",
         "Agriculture",
         0
        ],
        [
         "Services",
         "Manufacturing",
         50
        ],
        [
         "Services",
         "Services",
         30
        ],
        [
         "Services",
         "Households",
         60
        ],
        [
         "Services",
         "Government",
         20
        ],
        [
         "Households",
         "Agriculture",
         0
        ],
        [
         "Households",
         "Manufacturing",
         50
        ],
        [
         "Households",
         "Services",
         30
        ],
        [
         "Households",
         "Households",
         60
        ],
        [
         "Households",
         "Government",
         20
        ],
        [
         "Government",
         "Agriculture",
         0
        ],
        [
         "Government",
         "Manufacturing",
         50
        ],
        [
         "Government",
         "Services",
         30
        ],
        [
         "Government",
         "Households",
         60
        ],
        [
         "Government",
         "Government",
         20
        ],
        [
         "Agriculture",
         "Agriculture",
         40
        ],
        [
         "Agriculture",
         "Manufacturing",
         0
        ],
        [
         "Agriculture",
         "Services",
         70
        ],
        [
         "Agriculture",
         "Households",
         90
        ],
        [
         "Agriculture",
         "Government",
         30
        ],
        [
         "Manufacturing",
         "Agriculture",
         40
        ],
        [
         "Manufacturing",
         "Manufacturing",
         0
        ],
        [
         "Manufacturing",
         "Services",
         70
        ],
        [
         "Manufacturing",
         "Households",
         90
        ],
        [
         "Manufacturing",
         "Government",
         30
        ],
        [
         "Services",
         "Agriculture",
         40
        ],
        [
         "Services",
         "Manufacturing",
         0
        ],
        [
         "Services",
         "Services",
         70
        ],
        [
         "Services",
         "Households",
         90
        ],
        [
         "Services",
         "Government",
         30
        ],
        [
         "Households",
         "Agriculture",
         40
        ],
        [
         "Households",
         "Manufacturing",
         0
        ],
        [
         "Households",
         "Services",
         70
        ],
        [
         "Households",
         "Households",
         90
        ],
        [
         "Households",
         "Government",
         30
        ],
        [
         "Government",
         "Agriculture",
         40
        ],
        [
         "Government",
         "Manufacturing",
         0
        ],
        [
         "Government",
         "Services",
         70
        ],
        [
         "Government",
         "Households",
         90
        ],
        [
         "Government",
         "Government",
         30
        ],
        [
         "Agriculture",
         "Agriculture",
         30
        ],
        [
         "Agriculture",
         "Manufacturing",
         50
        ],
        [
         "Agriculture",
         "Services",
         0
        ],
        [
         "Agriculture",
         "Households",
         80
        ],
        [
         "Agriculture",
         "Government",
         40
        ],
        [
         "Manufacturing",
         "Agriculture",
         30
        ],
        [
         "Manufacturing",
         "Manufacturing",
         50
        ],
        [
         "Manufacturing",
         "Services",
         0
        ],
        [
         "Manufacturing",
         "Households",
         80
        ],
        [
         "Manufacturing",
         "Government",
         40
        ],
        [
         "Services",
         "Agriculture",
         30
        ],
        [
         "Services",
         "Manufacturing",
         50
        ],
        [
         "Services",
         "Services",
         0
        ],
        [
         "Services",
         "Households",
         80
        ],
        [
         "Services",
         "Government",
         40
        ],
        [
         "Households",
         "Agriculture",
         30
        ],
        [
         "Households",
         "Manufacturing",
         50
        ],
        [
         "Households",
         "Services",
         0
        ],
        [
         "Households",
         "Households",
         80
        ],
        [
         "Households",
         "Government",
         40
        ],
        [
         "Government",
         "Agriculture",
         30
        ],
        [
         "Government",
         "Manufacturing",
         50
        ],
        [
         "Government",
         "Services",
         0
        ],
        [
         "Government",
         "Households",
         80
        ],
        [
         "Government",
         "Government",
         40
        ],
        [
         "Agriculture",
         "Agriculture",
         60
        ],
        [
         "Agriculture",
         "Manufacturing",
         90
        ],
        [
         "Agriculture",
         "Services",
         80
        ],
        [
         "Agriculture",
         "Households",
         0
        ],
        [
         "Agriculture",
         "Government",
         60
        ],
        [
         "Manufacturing",
         "Agriculture",
         60
        ],
        [
         "Manufacturing",
         "Manufacturing",
         90
        ],
        [
         "Manufacturing",
         "Services",
         80
        ],
        [
         "Manufacturing",
         "Households",
         0
        ],
        [
         "Manufacturing",
         "Government",
         60
        ],
        [
         "Services",
         "Agriculture",
         60
        ],
        [
         "Services",
         "Manufacturing",
         90
        ],
        [
         "Services",
         "Services",
         80
        ],
        [
         "Services",
         "Households",
         0
        ],
        [
         "Services",
         "Government",
         60
        ],
        [
         "Households",
         "Agriculture",
         60
        ],
        [
         "Households",
         "Manufacturing",
         90
        ],
        [
         "Households",
         "Services",
         80
        ],
        [
         "Households",
         "Households",
         0
        ],
        [
         "Households",
         "Government",
         60
        ],
        [
         "Government",
         "Agriculture",
         60
        ],
        [
         "Government",
         "Manufacturing",
         90
        ],
        [
         "Government",
         "Services",
         80
        ],
        [
         "Government",
         "Households",
         0
        ],
        [
         "Government",
         "Government",
         60
        ],
        [
         "Agriculture",
         "Agriculture",
         20
        ],
        [
         "Agriculture",
         "Manufacturing",
         30
        ],
        [
         "Agriculture",
         "Services",
         40
        ],
        [
         "Agriculture",
         "Households",
         60
        ],
        [
         "Agriculture",
         "Government",
         0
        ],
        [
         "Manufacturing",
         "Agriculture",
         20
        ],
        [
         "Manufacturing",
         "Manufacturing",
         30
        ],
        [
         "Manufacturing",
         "Services",
         40
        ],
        [
         "Manufacturing",
         "Households",
         60
        ],
        [
         "Manufacturing",
         "Government",
         0
        ],
        [
         "Services",
         "Agriculture",
         20
        ],
        [
         "Services",
         "Manufacturing",
         30
        ],
        [
         "Services",
         "Services",
         40
        ],
        [
         "Services",
         "Households",
         60
        ],
        [
         "Services",
         "Government",
         0
        ],
        [
         "Households",
         "Agriculture",
         20
        ],
        [
         "Households",
         "Manufacturing",
         30
        ],
        [
         "Households",
         "Services",
         40
        ],
        [
         "Households",
         "Households",
         60
        ],
        [
         "Households",
         "Government",
         0
        ],
        [
         "Government",
         "Agriculture",
         20
        ],
        [
         "Government",
         "Manufacturing",
         30
        ],
        [
         "Government",
         "Services",
         40
        ],
        [
         "Government",
         "Households",
         60
        ],
        [
         "Government",
         "Government",
         0
        ]
       ],
       "datasetInfos": [],
       "dbfsResultPath": null,
       "isJsonSchema": true,
       "metadata": {},
       "overflow": false,
       "plotOptions": {
        "customPlotOptions": {},
        "displayType": "table",
        "pivotAggregation": null,
        "pivotColumns": null,
        "xColumns": null,
        "yColumns": null
       },
       "removedWidgets": [],
       "schema": [
        {
         "metadata": "{}",
         "name": "Row",
         "type": "\"string\""
        },
        {
         "metadata": "{}",
         "name": "Column",
         "type": "\"string\""
        },
        {
         "metadata": "{}",
         "name": "Value",
         "type": "\"integer\""
        }
       ],
       "type": "table"
      }
     },
     "output_type": "display_data"
    }
   ],
   "source": [
    "# Convert to long format (similar to Pandas melt)\n",
    "from pyspark.sql.functions import col, lit, array, struct, explode\n",
    "\n",
    "# Convert wide format to long format\n",
    "long_format_df = sam_spark_df.select(\n",
    "    array([lit(c).alias(\"Column\") for c in columns]).alias(\"Column\"),\n",
    "    struct([col(c).alias(c) for c in columns]).alias(\"Values\")\n",
    ").select(explode(col(\"Column\")).alias(\"Column\"), col(\"Values.*\")).withColumnRenamed(\"Column\", \"Row\")\n",
    "\n",
    "long_format_df = long_format_df.selectExpr(\n",
    "    \"Row\",\n",
    "    \"stack(5, 'Agriculture', Agriculture, 'Manufacturing', Manufacturing, 'Services', Services, 'Households', Households, 'Government', Government) as (Column, Value)\"\n",
    ")\n",
    "\n",
    "# Display the long format Spark DataFrame\n",
    "display(long_format_df)"
   ]
  },
  {
   "cell_type": "markdown",
   "metadata": {
    "application/vnd.databricks.v1+cell": {
     "cellMetadata": {
      "byteLimit": 2048000,
      "rowLimit": 10000
     },
     "inputWidgets": {},
     "nuid": "4b65867e-a15f-41e2-9c7b-10d750a3a3d0",
     "showTitle": false,
     "title": ""
    }
   },
   "source": [
    "Step 3. Normalize and regularize the SAM: The SAM is normalized to get the technical coefficients matrix and then regularized to ensure numerical stability and handle potential singularities. "
   ]
  },
  {
   "cell_type": "code",
   "execution_count": 0,
   "metadata": {
    "application/vnd.databricks.v1+cell": {
     "cellMetadata": {
      "byteLimit": 2048000,
      "rowLimit": 10000
     },
     "inputWidgets": {},
     "nuid": "b454f905-c81f-41d9-97b1-724709b9f902",
     "showTitle": false,
     "title": ""
    }
   },
   "outputs": [],
   "source": [
    "# Normalize the SAM matrix by dividing each element by the sum of its column\n",
    "column_sums = sam_matrix.sum(axis=0)\n",
    "normalized_sam = sam_matrix / column_sums\n",
    "\n",
    "# Regularization parameter\n",
    "epsilon = 1e-10\n",
    "\n",
    "# Add regularization to the diagonal - the np.eye() function generates an identity matrix\n",
    "regularized_matrix = normalized_sam + np.eye(normalized_sam.shape[0]) * epsilon"
   ]
  },
  {
   "cell_type": "markdown",
   "metadata": {
    "application/vnd.databricks.v1+cell": {
     "cellMetadata": {
      "byteLimit": 2048000,
      "rowLimit": 10000
     },
     "inputWidgets": {},
     "nuid": "52070697-757e-4668-99ea-e5cb84865ddb",
     "showTitle": false,
     "title": ""
    }
   },
   "source": [
    "Step 4. Compute the Leontief Inverse: The Leontief inverse is computed with regularization to handle potential singularity."
   ]
  },
  {
   "cell_type": "code",
   "execution_count": 0,
   "metadata": {
    "application/vnd.databricks.v1+cell": {
     "cellMetadata": {
      "byteLimit": 2048000,
      "rowLimit": 10000
     },
     "inputWidgets": {},
     "nuid": "ba0a98b1-7b18-46a9-a36b-3cfe60aa545f",
     "showTitle": false,
     "title": ""
    }
   },
   "outputs": [],
   "source": [
    "# Compute the inverse of the normalized SAM matrix\n",
    "try:\n",
    "    inverse_sam = np.linalg.inv(regularized_matrix)\n",
    "except np.linalg.LinAlgError as e:\n",
    "    # The matrix is not invertible. Compute the Moore-Penrose pseudoinverse instead. \n",
    "    inverse_sam = np.linalg.pinv(regularized_matrix)"
   ]
  },
  {
   "cell_type": "markdown",
   "metadata": {
    "application/vnd.databricks.v1+cell": {
     "cellMetadata": {
      "byteLimit": 2048000,
      "rowLimit": 10000
     },
     "inputWidgets": {},
     "nuid": "6de3522e-080c-44b4-a3ea-9692418f3b34",
     "showTitle": false,
     "title": ""
    }
   },
   "source": [
    "Step 5. Perform Shock Analysis: A 10% increase in final demand for the Agriculture sector is introduced, and the impact on all sectors is calculated using the Leontief inverse."
   ]
  },
  {
   "cell_type": "code",
   "execution_count": 0,
   "metadata": {
    "application/vnd.databricks.v1+cell": {
     "cellMetadata": {
      "byteLimit": 2048000,
      "rowLimit": 10000
     },
     "inputWidgets": {},
     "nuid": "81c3d5a6-b1ba-4a79-b691-38dcbbc84bc3",
     "showTitle": false,
     "title": ""
    }
   },
   "outputs": [
    {
     "output_type": "stream",
     "name": "stdout",
     "output_type": "stream",
     "text": [
      "[-0.52979651  0.09912791  0.22063954  0.08219477  0.2278343 ]\n"
     ]
    }
   ],
   "source": [
    "# Perform Shock Analysis: 10% increase in final demand for Agriculture\n",
    "shock_vector = np.array([0.10, 0, 0, 0, 0])\n",
    "\n",
    "# Calculate the impact of the shock\n",
    "impact_vector = inverse_sam @ shock_vector\n",
    "print(impact_vector)"
   ]
  },
  {
   "cell_type": "markdown",
   "metadata": {
    "application/vnd.databricks.v1+cell": {
     "cellMetadata": {
      "byteLimit": 2048000,
      "rowLimit": 10000
     },
     "inputWidgets": {},
     "nuid": "cc99822a-9892-4bf2-8beb-6c3bbfaec117",
     "showTitle": false,
     "title": ""
    }
   },
   "source": [
    "Convert the impact vector to a dataframe for display."
   ]
  },
  {
   "cell_type": "code",
   "execution_count": 0,
   "metadata": {
    "application/vnd.databricks.v1+cell": {
     "cellMetadata": {
      "byteLimit": 2048000,
      "rowLimit": 10000
     },
     "inputWidgets": {},
     "nuid": "378befc3-cdc9-41f9-99cd-6503371c8f8e",
     "showTitle": false,
     "title": ""
    }
   },
   "outputs": [
    {
     "output_type": "display_data",
     "data": {
      "text/html": [
       "<style scoped>\n",
       "  .table-result-container {\n",
       "    max-height: 300px;\n",
       "    overflow: auto;\n",
       "  }\n",
       "  table, th, td {\n",
       "    border: 1px solid black;\n",
       "    border-collapse: collapse;\n",
       "  }\n",
       "  th, td {\n",
       "    padding: 5px;\n",
       "  }\n",
       "  th {\n",
       "    text-align: left;\n",
       "  }\n",
       "</style><div class='table-result-container'><table class='table-result'><thead style='background-color: white'><tr><th>Sector</th><th>Impact</th></tr></thead><tbody><tr><td>Agriculture</td><td>-0.5297965120309741</td></tr><tr><td>Manufacturing</td><td>0.09912790698120218</td></tr><tr><td>Services</td><td>0.2206395350563949</td></tr><tr><td>Households</td><td>0.08219476743681285</td></tr><tr><td>Government</td><td>0.22783430254656412</td></tr></tbody></table></div>"
      ]
     },
     "metadata": {
      "application/vnd.databricks.v1+output": {
       "addedWidgets": {},
       "aggData": [],
       "aggError": "",
       "aggOverflow": false,
       "aggSchema": [],
       "aggSeriesLimitReached": false,
       "aggType": "",
       "arguments": {},
       "columnCustomDisplayInfos": {},
       "data": [
        [
         "Agriculture",
         -0.5297965120309741
        ],
        [
         "Manufacturing",
         0.09912790698120218
        ],
        [
         "Services",
         0.2206395350563949
        ],
        [
         "Households",
         0.08219476743681285
        ],
        [
         "Government",
         0.22783430254656412
        ]
       ],
       "datasetInfos": [],
       "dbfsResultPath": null,
       "isJsonSchema": true,
       "metadata": {},
       "overflow": false,
       "plotOptions": {
        "customPlotOptions": {},
        "displayType": "table",
        "pivotAggregation": null,
        "pivotColumns": null,
        "xColumns": null,
        "yColumns": null
       },
       "removedWidgets": [],
       "schema": [
        {
         "metadata": "{}",
         "name": "Sector",
         "type": "\"string\""
        },
        {
         "metadata": "{}",
         "name": "Impact",
         "type": "\"double\""
        }
       ],
       "type": "table"
      }
     },
     "output_type": "display_data"
    },
    {
     "output_type": "display_data",
     "data": {
      "text/plain": [
       "Databricks visualization. Run in Databricks to view."
      ]
     },
     "metadata": {
      "application/vnd.databricks.v1.subcommand+json": {
       "baseErrorDetails": null,
       "bindings": {},
       "collapsed": false,
       "command": "%python\n__backend_agg_display_orig = display\n__backend_agg_dfs = []\ndef __backend_agg_display_new(df):\n    __backend_agg_df_modules = [\"pandas.core.frame\", \"databricks.koalas.frame\", \"pyspark.sql.dataframe\", \"pyspark.pandas.frame\", \"pyspark.sql.connect.dataframe\"]\n    if (type(df).__module__ in __backend_agg_df_modules and type(df).__name__ == 'DataFrame') or isinstance(df, list):\n        __backend_agg_dfs.append(df)\n\ndisplay = __backend_agg_display_new\n\ndef __backend_agg_user_code_fn():\n    import base64\n    exec(base64.standard_b64decode(\"IyBDb252ZXJ0IHRoZSBpbXBhY3RfdmVjdG9yIHRvIGEgU3BhcmsgRGF0YUZyYW1lCnNlY3RvcnMgPSBbJ0FncmljdWx0dXJlJywgJ01hbnVmYWN0dXJpbmcnLCAnU2VydmljZXMnLCAnSG91c2Vob2xkcycsICdHb3Zlcm5tZW50J10KaW1wYWN0X2RmID0gc3BhcmsuY3JlYXRlRGF0YUZyYW1lKFsoc2VjdG9yc1tpXSwgZmxvYXQoaW1wYWN0X3ZlY3RvcltpXSkpIGZvciBpIGluIHJhbmdlKGxlbihzZWN0b3JzKSldLCBbIlNlY3RvciIsICJJbXBhY3QiXSkKCiMgRGlzcGxheSB0aGUgU3BhcmsgRGF0YUZyYW1lCmRpc3BsYXkoaW1wYWN0X2RmKQ==\").decode())\n\ntry:\n    # run user code\n    __backend_agg_user_code_fn()\n\n    #reset display function\n    display = __backend_agg_display_orig\n\n    if len(__backend_agg_dfs) > 0:\n        # create a temp view\n        if type(__backend_agg_dfs[0]).__module__ == \"databricks.koalas.frame\":\n            # koalas dataframe\n            __backend_agg_dfs[0].to_spark().createOrReplaceTempView(\"DatabricksView293c602\")\n        elif type(__backend_agg_dfs[0]).__module__ == \"pandas.core.frame\" or isinstance(__backend_agg_dfs[0], list):\n            # pandas dataframe\n            spark.createDataFrame(__backend_agg_dfs[0]).createOrReplaceTempView(\"DatabricksView293c602\")\n        else:\n            __backend_agg_dfs[0].createOrReplaceTempView(\"DatabricksView293c602\")\n        #run backend agg\n        display(spark.sql(\"\"\"WITH q AS (select * from DatabricksView293c602) SELECT `Sector`,SUM(`Impact`) `column_7d20d3308` FROM q GROUP BY `Sector`\"\"\"))\n    else:\n        displayHTML(\"dataframe no longer exists. If you're using dataframe.display(), use display(dataframe) instead.\")\n\n\nfinally:\n    spark.sql(\"drop view if exists DatabricksView293c602\")\n    display = __backend_agg_display_orig\n    del __backend_agg_display_new\n    del __backend_agg_display_orig\n    del __backend_agg_dfs\n    del __backend_agg_user_code_fn\n\n",
       "commandTitle": "Visualization 1",
       "commandType": "auto",
       "commandVersion": 0,
       "commentThread": [],
       "commentsVisible": false,
       "contentSha256Hex": null,
       "customPlotOptions": {
        "redashChart": [
         {
          "key": "type",
          "value": "CHART"
         },
         {
          "key": "options",
          "value": {
           "alignYAxesAtZero": true,
           "coefficient": 1,
           "columnConfigurationMap": {
            "x": {
             "column": "Sector",
             "id": "column_7d20d3307"
            },
            "y": [
             {
              "column": "Impact",
              "id": "column_7d20d3308",
              "transform": "SUM"
             }
            ]
           },
           "dateTimeFormat": "DD/MM/YYYY HH:mm",
           "direction": {
            "type": "counterclockwise"
           },
           "error_y": {
            "type": "data",
            "visible": true
           },
           "globalSeriesType": "column",
           "isAggregationOn": true,
           "legend": {
            "traceorder": "normal"
           },
           "missingValuesAsZero": true,
           "numberFormat": "0,0.[00000]",
           "percentFormat": "0[.]00%",
           "series": {
            "error_y": {
             "type": "data",
             "visible": true
            },
            "stacking": null
           },
           "seriesOptions": {
            "column_7d20d3308": {
             "name": "Impact",
             "yAxis": 0
            }
           },
           "showDataLabels": false,
           "sizemode": "diameter",
           "sortX": true,
           "sortY": true,
           "swappedAxes": true,
           "textFormat": "",
           "useAggregationsUi": true,
           "valuesOptions": {},
           "version": 2,
           "xAxis": {
            "labels": {
             "enabled": true
            },
            "type": "-"
           },
           "yAxis": [
            {
             "type": "-"
            },
            {
             "opposite": true,
             "type": "-"
            }
           ]
          }
         }
        ]
       },
       "datasetPreviewNameToCmdIdMap": {},
       "diffDeletes": [],
       "diffInserts": [],
       "displayType": "redashChart",
       "error": null,
       "errorDetails": null,
       "errorSummary": null,
       "errorTraceType": null,
       "finishTime": 0,
       "globalVars": {},
       "guid": "",
       "height": "auto",
       "hideCommandCode": false,
       "hideCommandResult": false,
       "iPythonMetadata": null,
       "inputWidgets": {},
       "isLockedInExamMode": false,
       "latestUser": "a user",
       "latestUserId": null,
       "listResultMetadata": null,
       "metadata": {
        "byteLimit": 2048000,
        "rowLimit": 10000
       },
       "nuid": "815ee86f-ecab-4e68-9f64-80b62ac77f4b",
       "origId": 0,
       "parentHierarchy": [],
       "pivotAggregation": null,
       "pivotColumns": null,
       "position": 4.81201171875,
       "resultDbfsErrorMessage": null,
       "resultDbfsStatus": "INLINED_IN_TREE",
       "results": null,
       "showCommandTitle": false,
       "startTime": 0,
       "state": "input",
       "streamStates": {},
       "subcommandOptions": {
        "queryPlan": {
         "groups": [
          {
           "column": "Sector",
           "type": "column"
          }
         ],
         "selects": [
          {
           "column": "Sector",
           "type": "column"
          },
          {
           "alias": "column_7d20d3308",
           "args": [
            {
             "column": "Impact",
             "type": "column"
            }
           ],
           "function": "SUM",
           "type": "function"
          }
         ]
        }
       },
       "submitTime": 0,
       "subtype": "tableResultSubCmd.visualization",
       "tableResultIndex": 0,
       "useConsistentColors": false,
       "version": "CommandV1",
       "width": "auto",
       "workflows": [],
       "xColumns": null,
       "yColumns": null
      }
     },
     "output_type": "display_data"
    }
   ],
   "source": [
    "# Convert the impact_vector to a Spark DataFrame\n",
    "sectors = ['Agriculture', 'Manufacturing', 'Services', 'Households', 'Government']\n",
    "impact_df = spark.createDataFrame([(sectors[i], float(impact_vector[i])) for i in range(len(sectors))], [\"Sector\", \"Impact\"])\n",
    "\n",
    "# Display the Spark DataFrame\n",
    "display(impact_df)"
   ]
  },
  {
   "cell_type": "markdown",
   "metadata": {
    "application/vnd.databricks.v1+cell": {
     "cellMetadata": {
      "byteLimit": 2048000,
      "rowLimit": 10000
     },
     "inputWidgets": {},
     "nuid": "b6aa9258-f2e0-419e-a9f2-16f4e0b19c9d",
     "showTitle": false,
     "title": ""
    }
   },
   "source": [
    "Step 1. Create the SAM DataFrame: The SAM is created with zeros on the main diagonal and loaded into a Pandas dataframe. The Pandas dataframe format is the easiest format to represent the SAM matrix as a table.\n"
   ]
  },
  {
   "cell_type": "code",
   "execution_count": 0,
   "metadata": {
    "application/vnd.databricks.v1+cell": {
     "cellMetadata": {
      "byteLimit": 2048000,
      "rowLimit": 10000
     },
     "inputWidgets": {},
     "nuid": "45c96e08-770c-4f2a-9a2f-5f332644a337",
     "showTitle": false,
     "title": ""
    }
   },
   "outputs": [
    {
     "output_type": "display_data",
     "data": {
      "text/html": [
       "<style scoped>\n",
       "  .table-result-container {\n",
       "    max-height: 300px;\n",
       "    overflow: auto;\n",
       "  }\n",
       "  table, th, td {\n",
       "    border: 1px solid black;\n",
       "    border-collapse: collapse;\n",
       "  }\n",
       "  th, td {\n",
       "    padding: 5px;\n",
       "  }\n",
       "  th {\n",
       "    text-align: left;\n",
       "  }\n",
       "</style><div class='table-result-container'><table class='table-result'><thead style='background-color: white'><tr><th>Agriculture</th><th>Manufacturing</th><th>Services</th><th>Households</th><th>Government</th></tr></thead><tbody><tr><td>0</td><td>50</td><td>30</td><td>60</td><td>20</td></tr><tr><td>40</td><td>0</td><td>70</td><td>90</td><td>30</td></tr><tr><td>30</td><td>50</td><td>0</td><td>80</td><td>40</td></tr><tr><td>60</td><td>90</td><td>80</td><td>0</td><td>60</td></tr><tr><td>20</td><td>30</td><td>40</td><td>60</td><td>0</td></tr></tbody></table></div>"
      ]
     },
     "metadata": {
      "application/vnd.databricks.v1+output": {
       "addedWidgets": {},
       "aggData": [],
       "aggError": "",
       "aggOverflow": false,
       "aggSchema": [],
       "aggSeriesLimitReached": false,
       "aggType": "",
       "arguments": {},
       "columnCustomDisplayInfos": {},
       "data": [
        [
         0,
         50,
         30,
         60,
         20
        ],
        [
         40,
         0,
         70,
         90,
         30
        ],
        [
         30,
         50,
         0,
         80,
         40
        ],
        [
         60,
         90,
         80,
         0,
         60
        ],
        [
         20,
         30,
         40,
         60,
         0
        ]
       ],
       "datasetInfos": [],
       "dbfsResultPath": null,
       "isJsonSchema": true,
       "metadata": {},
       "overflow": false,
       "plotOptions": {
        "customPlotOptions": {},
        "displayType": "table",
        "pivotAggregation": null,
        "pivotColumns": null,
        "xColumns": null,
        "yColumns": null
       },
       "removedWidgets": [],
       "schema": [
        {
         "metadata": "{}",
         "name": "Agriculture",
         "type": "\"long\""
        },
        {
         "metadata": "{}",
         "name": "Manufacturing",
         "type": "\"long\""
        },
        {
         "metadata": "{}",
         "name": "Services",
         "type": "\"long\""
        },
        {
         "metadata": "{}",
         "name": "Households",
         "type": "\"long\""
        },
        {
         "metadata": "{}",
         "name": "Government",
         "type": "\"long\""
        }
       ],
       "type": "table"
      }
     },
     "output_type": "display_data"
    }
   ],
   "source": [
    "import pandas as pd\n",
    "\n",
    "# Adjusted 5x5 SAM data with zeros on the main diagonal\n",
    "data = np.array([\n",
    "    [0, 50, 30, 60, 20],\n",
    "    [40, 0, 70, 90, 30],\n",
    "    [30, 50, 0, 80, 40],\n",
    "    [60, 90, 80, 0, 60],\n",
    "    [20, 30, 40, 60, 0]\n",
    "])\n",
    "# Create a Pandas DataFrame\n",
    "columns = ['Agriculture', 'Manufacturing', 'Services', 'Households', 'Government']\n",
    "sam_df = pd.DataFrame(data, columns=columns, index=columns)\n",
    "display(sam_df)"
   ]
  },
  {
   "cell_type": "markdown",
   "metadata": {
    "application/vnd.databricks.v1+cell": {
     "cellMetadata": {
      "byteLimit": 2048000,
      "rowLimit": 10000
     },
     "inputWidgets": {},
     "nuid": "6e2307e5-f439-4cae-a19d-3c3fad755638",
     "showTitle": false,
     "title": ""
    }
   },
   "source": [
    "Step 2. Convert the SAM matrix into a Databricks dataframe."
   ]
  },
  {
   "cell_type": "code",
   "execution_count": 0,
   "metadata": {
    "application/vnd.databricks.v1+cell": {
     "cellMetadata": {
      "byteLimit": 2048000,
      "rowLimit": 10000
     },
     "inputWidgets": {},
     "nuid": "3ae61155-a16c-4dda-82d0-7a0c21f37aef",
     "showTitle": false,
     "title": ""
    }
   },
   "outputs": [
    {
     "output_type": "display_data",
     "data": {
      "text/html": [
       "<style scoped>\n",
       "  .table-result-container {\n",
       "    max-height: 300px;\n",
       "    overflow: auto;\n",
       "  }\n",
       "  table, th, td {\n",
       "    border: 1px solid black;\n",
       "    border-collapse: collapse;\n",
       "  }\n",
       "  th, td {\n",
       "    padding: 5px;\n",
       "  }\n",
       "  th {\n",
       "    text-align: left;\n",
       "  }\n",
       "</style><div class='table-result-container'><table class='table-result'><thead style='background-color: white'><tr><th>Agriculture</th><th>Manufacturing</th><th>Services</th><th>Households</th><th>Government</th></tr></thead><tbody><tr><td>0</td><td>50</td><td>30</td><td>60</td><td>20</td></tr><tr><td>40</td><td>0</td><td>70</td><td>90</td><td>30</td></tr><tr><td>30</td><td>50</td><td>0</td><td>80</td><td>40</td></tr><tr><td>60</td><td>90</td><td>80</td><td>0</td><td>60</td></tr><tr><td>20</td><td>30</td><td>40</td><td>60</td><td>0</td></tr></tbody></table></div>"
      ]
     },
     "metadata": {
      "application/vnd.databricks.v1+output": {
       "addedWidgets": {},
       "aggData": [],
       "aggError": "",
       "aggOverflow": false,
       "aggSchema": [],
       "aggSeriesLimitReached": false,
       "aggType": "",
       "arguments": {},
       "columnCustomDisplayInfos": {},
       "data": [
        [
         0,
         50,
         30,
         60,
         20
        ],
        [
         40,
         0,
         70,
         90,
         30
        ],
        [
         30,
         50,
         0,
         80,
         40
        ],
        [
         60,
         90,
         80,
         0,
         60
        ],
        [
         20,
         30,
         40,
         60,
         0
        ]
       ],
       "datasetInfos": [],
       "dbfsResultPath": null,
       "isJsonSchema": true,
       "metadata": {},
       "overflow": false,
       "plotOptions": {
        "customPlotOptions": {},
        "displayType": "table",
        "pivotAggregation": null,
        "pivotColumns": null,
        "xColumns": null,
        "yColumns": null
       },
       "removedWidgets": [],
       "schema": [
        {
         "metadata": "{}",
         "name": "Agriculture",
         "type": "\"integer\""
        },
        {
         "metadata": "{}",
         "name": "Manufacturing",
         "type": "\"integer\""
        },
        {
         "metadata": "{}",
         "name": "Services",
         "type": "\"integer\""
        },
        {
         "metadata": "{}",
         "name": "Households",
         "type": "\"integer\""
        },
        {
         "metadata": "{}",
         "name": "Government",
         "type": "\"integer\""
        }
       ],
       "type": "table"
      }
     },
     "output_type": "display_data"
    }
   ],
   "source": [
    "from pyspark.sql.types import IntegerType, StructType, StructField\n",
    "\n",
    "# Column names\n",
    "columns = ['Agriculture', 'Manufacturing', 'Services', 'Households', 'Government']\n",
    "\n",
    "# Convert the NumPy array to a list of tuples and cast the values to int\n",
    "sam_list = [tuple(int(value) for value in row) for row in data]\n",
    "\n",
    "# Create the schema for the Spark DataFrame\n",
    "schema = StructType([StructField(column, IntegerType(), nullable=True) for column in columns])\n",
    "\n",
    "# Create a Spark DataFrame directly from the list of tuples and the schema\n",
    "sam_spark_df = spark.createDataFrame(sam_list, schema=schema)\n",
    "\n",
    "# Display the Spark DataFrame\n",
    "display(sam_spark_df)"
   ]
  },
  {
   "cell_type": "markdown",
   "metadata": {
    "application/vnd.databricks.v1+cell": {
     "cellMetadata": {
      "byteLimit": 2048000,
      "rowLimit": 10000
     },
     "inputWidgets": {},
     "nuid": "906366de-1327-4ee0-b8f5-c2765f35e50f",
     "showTitle": false,
     "title": ""
    }
   },
   "source": [
    "Convert to Long Format: The Spark DataFrame is transformed to a long format using Spark SQL functions. This involves selecting columns, creating an array of column names, exploding the array to create rows, and stacking the values.\n",
    "\n",
    "The long format offers several advantages in data analysis, manipulation, and visualization. It is more flexible, easier to work with, and compatible with many data processing and visualization tools"
   ]
  },
  {
   "cell_type": "code",
   "execution_count": 0,
   "metadata": {
    "application/vnd.databricks.v1+cell": {
     "cellMetadata": {
      "byteLimit": 2048000,
      "rowLimit": 10000
     },
     "inputWidgets": {},
     "nuid": "198b64b8-62b1-4c44-bc98-812ceabaf455",
     "showTitle": false,
     "title": ""
    }
   },
   "outputs": [
    {
     "output_type": "display_data",
     "data": {
      "text/html": [
       "<style scoped>\n",
       "  .table-result-container {\n",
       "    max-height: 300px;\n",
       "    overflow: auto;\n",
       "  }\n",
       "  table, th, td {\n",
       "    border: 1px solid black;\n",
       "    border-collapse: collapse;\n",
       "  }\n",
       "  th, td {\n",
       "    padding: 5px;\n",
       "  }\n",
       "  th {\n",
       "    text-align: left;\n",
       "  }\n",
       "</style><div class='table-result-container'><table class='table-result'><thead style='background-color: white'><tr><th>Row</th><th>Column</th><th>Value</th></tr></thead><tbody><tr><td>Agriculture</td><td>Agriculture</td><td>0</td></tr><tr><td>Agriculture</td><td>Manufacturing</td><td>50</td></tr><tr><td>Agriculture</td><td>Services</td><td>30</td></tr><tr><td>Agriculture</td><td>Households</td><td>60</td></tr><tr><td>Agriculture</td><td>Government</td><td>20</td></tr><tr><td>Manufacturing</td><td>Agriculture</td><td>0</td></tr><tr><td>Manufacturing</td><td>Manufacturing</td><td>50</td></tr><tr><td>Manufacturing</td><td>Services</td><td>30</td></tr><tr><td>Manufacturing</td><td>Households</td><td>60</td></tr><tr><td>Manufacturing</td><td>Government</td><td>20</td></tr><tr><td>Services</td><td>Agriculture</td><td>0</td></tr><tr><td>Services</td><td>Manufacturing</td><td>50</td></tr><tr><td>Services</td><td>Services</td><td>30</td></tr><tr><td>Services</td><td>Households</td><td>60</td></tr><tr><td>Services</td><td>Government</td><td>20</td></tr><tr><td>Households</td><td>Agriculture</td><td>0</td></tr><tr><td>Households</td><td>Manufacturing</td><td>50</td></tr><tr><td>Households</td><td>Services</td><td>30</td></tr><tr><td>Households</td><td>Households</td><td>60</td></tr><tr><td>Households</td><td>Government</td><td>20</td></tr><tr><td>Government</td><td>Agriculture</td><td>0</td></tr><tr><td>Government</td><td>Manufacturing</td><td>50</td></tr><tr><td>Government</td><td>Services</td><td>30</td></tr><tr><td>Government</td><td>Households</td><td>60</td></tr><tr><td>Government</td><td>Government</td><td>20</td></tr><tr><td>Agriculture</td><td>Agriculture</td><td>40</td></tr><tr><td>Agriculture</td><td>Manufacturing</td><td>0</td></tr><tr><td>Agriculture</td><td>Services</td><td>70</td></tr><tr><td>Agriculture</td><td>Households</td><td>90</td></tr><tr><td>Agriculture</td><td>Government</td><td>30</td></tr><tr><td>Manufacturing</td><td>Agriculture</td><td>40</td></tr><tr><td>Manufacturing</td><td>Manufacturing</td><td>0</td></tr><tr><td>Manufacturing</td><td>Services</td><td>70</td></tr><tr><td>Manufacturing</td><td>Households</td><td>90</td></tr><tr><td>Manufacturing</td><td>Government</td><td>30</td></tr><tr><td>Services</td><td>Agriculture</td><td>40</td></tr><tr><td>Services</td><td>Manufacturing</td><td>0</td></tr><tr><td>Services</td><td>Services</td><td>70</td></tr><tr><td>Services</td><td>Households</td><td>90</td></tr><tr><td>Services</td><td>Government</td><td>30</td></tr><tr><td>Households</td><td>Agriculture</td><td>40</td></tr><tr><td>Households</td><td>Manufacturing</td><td>0</td></tr><tr><td>Households</td><td>Services</td><td>70</td></tr><tr><td>Households</td><td>Households</td><td>90</td></tr><tr><td>Households</td><td>Government</td><td>30</td></tr><tr><td>Government</td><td>Agriculture</td><td>40</td></tr><tr><td>Government</td><td>Manufacturing</td><td>0</td></tr><tr><td>Government</td><td>Services</td><td>70</td></tr><tr><td>Government</td><td>Households</td><td>90</td></tr><tr><td>Government</td><td>Government</td><td>30</td></tr><tr><td>Agriculture</td><td>Agriculture</td><td>30</td></tr><tr><td>Agriculture</td><td>Manufacturing</td><td>50</td></tr><tr><td>Agriculture</td><td>Services</td><td>0</td></tr><tr><td>Agriculture</td><td>Households</td><td>80</td></tr><tr><td>Agriculture</td><td>Government</td><td>40</td></tr><tr><td>Manufacturing</td><td>Agriculture</td><td>30</td></tr><tr><td>Manufacturing</td><td>Manufacturing</td><td>50</td></tr><tr><td>Manufacturing</td><td>Services</td><td>0</td></tr><tr><td>Manufacturing</td><td>Households</td><td>80</td></tr><tr><td>Manufacturing</td><td>Government</td><td>40</td></tr><tr><td>Services</td><td>Agriculture</td><td>30</td></tr><tr><td>Services</td><td>Manufacturing</td><td>50</td></tr><tr><td>Services</td><td>Services</td><td>0</td></tr><tr><td>Services</td><td>Households</td><td>80</td></tr><tr><td>Services</td><td>Government</td><td>40</td></tr><tr><td>Households</td><td>Agriculture</td><td>30</td></tr><tr><td>Households</td><td>Manufacturing</td><td>50</td></tr><tr><td>Households</td><td>Services</td><td>0</td></tr><tr><td>Households</td><td>Households</td><td>80</td></tr><tr><td>Households</td><td>Government</td><td>40</td></tr><tr><td>Government</td><td>Agriculture</td><td>30</td></tr><tr><td>Government</td><td>Manufacturing</td><td>50</td></tr><tr><td>Government</td><td>Services</td><td>0</td></tr><tr><td>Government</td><td>Households</td><td>80</td></tr><tr><td>Government</td><td>Government</td><td>40</td></tr><tr><td>Agriculture</td><td>Agriculture</td><td>60</td></tr><tr><td>Agriculture</td><td>Manufacturing</td><td>90</td></tr><tr><td>Agriculture</td><td>Services</td><td>80</td></tr><tr><td>Agriculture</td><td>Households</td><td>0</td></tr><tr><td>Agriculture</td><td>Government</td><td>60</td></tr><tr><td>Manufacturing</td><td>Agriculture</td><td>60</td></tr><tr><td>Manufacturing</td><td>Manufacturing</td><td>90</td></tr><tr><td>Manufacturing</td><td>Services</td><td>80</td></tr><tr><td>Manufacturing</td><td>Households</td><td>0</td></tr><tr><td>Manufacturing</td><td>Government</td><td>60</td></tr><tr><td>Services</td><td>Agriculture</td><td>60</td></tr><tr><td>Services</td><td>Manufacturing</td><td>90</td></tr><tr><td>Services</td><td>Services</td><td>80</td></tr><tr><td>Services</td><td>Households</td><td>0</td></tr><tr><td>Services</td><td>Government</td><td>60</td></tr><tr><td>Households</td><td>Agriculture</td><td>60</td></tr><tr><td>Households</td><td>Manufacturing</td><td>90</td></tr><tr><td>Households</td><td>Services</td><td>80</td></tr><tr><td>Households</td><td>Households</td><td>0</td></tr><tr><td>Households</td><td>Government</td><td>60</td></tr><tr><td>Government</td><td>Agriculture</td><td>60</td></tr><tr><td>Government</td><td>Manufacturing</td><td>90</td></tr><tr><td>Government</td><td>Services</td><td>80</td></tr><tr><td>Government</td><td>Households</td><td>0</td></tr><tr><td>Government</td><td>Government</td><td>60</td></tr><tr><td>Agriculture</td><td>Agriculture</td><td>20</td></tr><tr><td>Agriculture</td><td>Manufacturing</td><td>30</td></tr><tr><td>Agriculture</td><td>Services</td><td>40</td></tr><tr><td>Agriculture</td><td>Households</td><td>60</td></tr><tr><td>Agriculture</td><td>Government</td><td>0</td></tr><tr><td>Manufacturing</td><td>Agriculture</td><td>20</td></tr><tr><td>Manufacturing</td><td>Manufacturing</td><td>30</td></tr><tr><td>Manufacturing</td><td>Services</td><td>40</td></tr><tr><td>Manufacturing</td><td>Households</td><td>60</td></tr><tr><td>Manufacturing</td><td>Government</td><td>0</td></tr><tr><td>Services</td><td>Agriculture</td><td>20</td></tr><tr><td>Services</td><td>Manufacturing</td><td>30</td></tr><tr><td>Services</td><td>Services</td><td>40</td></tr><tr><td>Services</td><td>Households</td><td>60</td></tr><tr><td>Services</td><td>Government</td><td>0</td></tr><tr><td>Households</td><td>Agriculture</td><td>20</td></tr><tr><td>Households</td><td>Manufacturing</td><td>30</td></tr><tr><td>Households</td><td>Services</td><td>40</td></tr><tr><td>Households</td><td>Households</td><td>60</td></tr><tr><td>Households</td><td>Government</td><td>0</td></tr><tr><td>Government</td><td>Agriculture</td><td>20</td></tr><tr><td>Government</td><td>Manufacturing</td><td>30</td></tr><tr><td>Government</td><td>Services</td><td>40</td></tr><tr><td>Government</td><td>Households</td><td>60</td></tr><tr><td>Government</td><td>Government</td><td>0</td></tr></tbody></table></div>"
      ]
     },
     "metadata": {
      "application/vnd.databricks.v1+output": {
       "addedWidgets": {},
       "aggData": [],
       "aggError": "",
       "aggOverflow": false,
       "aggSchema": [],
       "aggSeriesLimitReached": false,
       "aggType": "",
       "arguments": {},
       "columnCustomDisplayInfos": {},
       "data": [
        [
         "Agriculture",
         "Agriculture",
         0
        ],
        [
         "Agriculture",
         "Manufacturing",
         50
        ],
        [
         "Agriculture",
         "Services",
         30
        ],
        [
         "Agriculture",
         "Households",
         60
        ],
        [
         "Agriculture",
         "Government",
         20
        ],
        [
         "Manufacturing",
         "Agriculture",
         0
        ],
        [
         "Manufacturing",
         "Manufacturing",
         50
        ],
        [
         "Manufacturing",
         "Services",
         30
        ],
        [
         "Manufacturing",
         "Households",
         60
        ],
        [
         "Manufacturing",
         "Government",
         20
        ],
        [
         "Services",
         "Agriculture",
         0
        ],
        [
         "Services",
         "Manufacturing",
         50
        ],
        [
         "Services",
         "Services",
         30
        ],
        [
         "Services",
         "Households",
         60
        ],
        [
         "Services",
         "Government",
         20
        ],
        [
         "Households",
         "Agriculture",
         0
        ],
        [
         "Households",
         "Manufacturing",
         50
        ],
        [
         "Households",
         "Services",
         30
        ],
        [
         "Households",
         "Households",
         60
        ],
        [
         "Households",
         "Government",
         20
        ],
        [
         "Government",
         "Agriculture",
         0
        ],
        [
         "Government",
         "Manufacturing",
         50
        ],
        [
         "Government",
         "Services",
         30
        ],
        [
         "Government",
         "Households",
         60
        ],
        [
         "Government",
         "Government",
         20
        ],
        [
         "Agriculture",
         "Agriculture",
         40
        ],
        [
         "Agriculture",
         "Manufacturing",
         0
        ],
        [
         "Agriculture",
         "Services",
         70
        ],
        [
         "Agriculture",
         "Households",
         90
        ],
        [
         "Agriculture",
         "Government",
         30
        ],
        [
         "Manufacturing",
         "Agriculture",
         40
        ],
        [
         "Manufacturing",
         "Manufacturing",
         0
        ],
        [
         "Manufacturing",
         "Services",
         70
        ],
        [
         "Manufacturing",
         "Households",
         90
        ],
        [
         "Manufacturing",
         "Government",
         30
        ],
        [
         "Services",
         "Agriculture",
         40
        ],
        [
         "Services",
         "Manufacturing",
         0
        ],
        [
         "Services",
         "Services",
         70
        ],
        [
         "Services",
         "Households",
         90
        ],
        [
         "Services",
         "Government",
         30
        ],
        [
         "Households",
         "Agriculture",
         40
        ],
        [
         "Households",
         "Manufacturing",
         0
        ],
        [
         "Households",
         "Services",
         70
        ],
        [
         "Households",
         "Households",
         90
        ],
        [
         "Households",
         "Government",
         30
        ],
        [
         "Government",
         "Agriculture",
         40
        ],
        [
         "Government",
         "Manufacturing",
         0
        ],
        [
         "Government",
         "Services",
         70
        ],
        [
         "Government",
         "Households",
         90
        ],
        [
         "Government",
         "Government",
         30
        ],
        [
         "Agriculture",
         "Agriculture",
         30
        ],
        [
         "Agriculture",
         "Manufacturing",
         50
        ],
        [
         "Agriculture",
         "Services",
         0
        ],
        [
         "Agriculture",
         "Households",
         80
        ],
        [
         "Agriculture",
         "Government",
         40
        ],
        [
         "Manufacturing",
         "Agriculture",
         30
        ],
        [
         "Manufacturing",
         "Manufacturing",
         50
        ],
        [
         "Manufacturing",
         "Services",
         0
        ],
        [
         "Manufacturing",
         "Households",
         80
        ],
        [
         "Manufacturing",
         "Government",
         40
        ],
        [
         "Services",
         "Agriculture",
         30
        ],
        [
         "Services",
         "Manufacturing",
         50
        ],
        [
         "Services",
         "Services",
         0
        ],
        [
         "Services",
         "Households",
         80
        ],
        [
         "Services",
         "Government",
         40
        ],
        [
         "Households",
         "Agriculture",
         30
        ],
        [
         "Households",
         "Manufacturing",
         50
        ],
        [
         "Households",
         "Services",
         0
        ],
        [
         "Households",
         "Households",
         80
        ],
        [
         "Households",
         "Government",
         40
        ],
        [
         "Government",
         "Agriculture",
         30
        ],
        [
         "Government",
         "Manufacturing",
         50
        ],
        [
         "Government",
         "Services",
         0
        ],
        [
         "Government",
         "Households",
         80
        ],
        [
         "Government",
         "Government",
         40
        ],
        [
         "Agriculture",
         "Agriculture",
         60
        ],
        [
         "Agriculture",
         "Manufacturing",
         90
        ],
        [
         "Agriculture",
         "Services",
         80
        ],
        [
         "Agriculture",
         "Households",
         0
        ],
        [
         "Agriculture",
         "Government",
         60
        ],
        [
         "Manufacturing",
         "Agriculture",
         60
        ],
        [
         "Manufacturing",
         "Manufacturing",
         90
        ],
        [
         "Manufacturing",
         "Services",
         80
        ],
        [
         "Manufacturing",
         "Households",
         0
        ],
        [
         "Manufacturing",
         "Government",
         60
        ],
        [
         "Services",
         "Agriculture",
         60
        ],
        [
         "Services",
         "Manufacturing",
         90
        ],
        [
         "Services",
         "Services",
         80
        ],
        [
         "Services",
         "Households",
         0
        ],
        [
         "Services",
         "Government",
         60
        ],
        [
         "Households",
         "Agriculture",
         60
        ],
        [
         "Households",
         "Manufacturing",
         90
        ],
        [
         "Households",
         "Services",
         80
        ],
        [
         "Households",
         "Households",
         0
        ],
        [
         "Households",
         "Government",
         60
        ],
        [
         "Government",
         "Agriculture",
         60
        ],
        [
         "Government",
         "Manufacturing",
         90
        ],
        [
         "Government",
         "Services",
         80
        ],
        [
         "Government",
         "Households",
         0
        ],
        [
         "Government",
         "Government",
         60
        ],
        [
         "Agriculture",
         "Agriculture",
         20
        ],
        [
         "Agriculture",
         "Manufacturing",
         30
        ],
        [
         "Agriculture",
         "Services",
         40
        ],
        [
         "Agriculture",
         "Households",
         60
        ],
        [
         "Agriculture",
         "Government",
         0
        ],
        [
         "Manufacturing",
         "Agriculture",
         20
        ],
        [
         "Manufacturing",
         "Manufacturing",
         30
        ],
        [
         "Manufacturing",
         "Services",
         40
        ],
        [
         "Manufacturing",
         "Households",
         60
        ],
        [
         "Manufacturing",
         "Government",
         0
        ],
        [
         "Services",
         "Agriculture",
         20
        ],
        [
         "Services",
         "Manufacturing",
         30
        ],
        [
         "Services",
         "Services",
         40
        ],
        [
         "Services",
         "Households",
         60
        ],
        [
         "Services",
         "Government",
         0
        ],
        [
         "Households",
         "Agriculture",
         20
        ],
        [
         "Households",
         "Manufacturing",
         30
        ],
        [
         "Households",
         "Services",
         40
        ],
        [
         "Households",
         "Households",
         60
        ],
        [
         "Households",
         "Government",
         0
        ],
        [
         "Government",
         "Agriculture",
         20
        ],
        [
         "Government",
         "Manufacturing",
         30
        ],
        [
         "Government",
         "Services",
         40
        ],
        [
         "Government",
         "Households",
         60
        ],
        [
         "Government",
         "Government",
         0
        ]
       ],
       "datasetInfos": [],
       "dbfsResultPath": null,
       "isJsonSchema": true,
       "metadata": {},
       "overflow": false,
       "plotOptions": {
        "customPlotOptions": {},
        "displayType": "table",
        "pivotAggregation": null,
        "pivotColumns": null,
        "xColumns": null,
        "yColumns": null
       },
       "removedWidgets": [],
       "schema": [
        {
         "metadata": "{}",
         "name": "Row",
         "type": "\"string\""
        },
        {
         "metadata": "{}",
         "name": "Column",
         "type": "\"string\""
        },
        {
         "metadata": "{}",
         "name": "Value",
         "type": "\"integer\""
        }
       ],
       "type": "table"
      }
     },
     "output_type": "display_data"
    }
   ],
   "source": [
    "# Convert to long format (similar to Pandas melt)\n",
    "from pyspark.sql.functions import col, lit, array, struct, explode\n",
    "\n",
    "# Convert wide format to long format\n",
    "long_format_df = sam_spark_df.select(\n",
    "    array([lit(c).alias(\"Column\") for c in columns]).alias(\"Column\"),\n",
    "    struct([col(c).alias(c) for c in columns]).alias(\"Values\")\n",
    ").select(explode(col(\"Column\")).alias(\"Column\"), col(\"Values.*\")).withColumnRenamed(\"Column\", \"Row\")\n",
    "\n",
    "long_format_df = long_format_df.selectExpr(\n",
    "    \"Row\",\n",
    "    \"stack(5, 'Agriculture', Agriculture, 'Manufacturing', Manufacturing, 'Services', Services, 'Households', Households, 'Government', Government) as (Column, Value)\"\n",
    ")\n",
    "\n",
    "# Display the long format Spark DataFrame\n",
    "display(long_format_df)"
   ]
  },
  {
   "cell_type": "markdown",
   "metadata": {
    "application/vnd.databricks.v1+cell": {
     "cellMetadata": {
      "byteLimit": 2048000,
      "rowLimit": 10000
     },
     "inputWidgets": {},
     "nuid": "2ed6b57c-94c1-4a7c-ade4-099427e3dc08",
     "showTitle": false,
     "title": ""
    }
   },
   "source": [
    "Step 3. Normalize the SAM: The SAM is normalized to get the technical coefficients matrix (A)."
   ]
  },
  {
   "cell_type": "code",
   "execution_count": 0,
   "metadata": {
    "application/vnd.databricks.v1+cell": {
     "cellMetadata": {
      "byteLimit": 2048000,
      "rowLimit": 10000
     },
     "inputWidgets": {},
     "nuid": "ec62e470-c80a-4546-ba2c-3cf5cd30ada7",
     "showTitle": false,
     "title": ""
    }
   },
   "outputs": [],
   "source": [
    "# Normalize the SAM to obtain technical coefficients matrix (A)\n",
    "# Convert to numpy array for normalization\n",
    "sam_array = data\n",
    "\n",
    "# Normalize by column sums to get technical coefficients matrix (A)\n",
    "column_sums = sam_array.sum(axis=0)\n",
    "A = sam_array / column_sums"
   ]
  },
  {
   "cell_type": "markdown",
   "metadata": {
    "application/vnd.databricks.v1+cell": {
     "cellMetadata": {
      "byteLimit": 2048000,
      "rowLimit": 10000
     },
     "inputWidgets": {},
     "nuid": "ebd9b945-edcb-4e58-9874-f66301e3659b",
     "showTitle": false,
     "title": ""
    }
   },
   "source": [
    "Step 4. Convert Normalized SAM to Spark DataFrame: The normalized SAM is converted back to a Spark DataFrame and displayed."
   ]
  },
  {
   "cell_type": "code",
   "execution_count": 0,
   "metadata": {
    "application/vnd.databricks.v1+cell": {
     "cellMetadata": {
      "byteLimit": 2048000,
      "rowLimit": 10000
     },
     "inputWidgets": {},
     "nuid": "0efb35dd-652c-400f-a654-f02201351e27",
     "showTitle": false,
     "title": ""
    }
   },
   "outputs": [
    {
     "output_type": "display_data",
     "data": {
      "text/html": [
       "<style scoped>\n",
       "  .table-result-container {\n",
       "    max-height: 300px;\n",
       "    overflow: auto;\n",
       "  }\n",
       "  table, th, td {\n",
       "    border: 1px solid black;\n",
       "    border-collapse: collapse;\n",
       "  }\n",
       "  th, td {\n",
       "    padding: 5px;\n",
       "  }\n",
       "  th {\n",
       "    text-align: left;\n",
       "  }\n",
       "</style><div class='table-result-container'><table class='table-result'><thead style='background-color: white'><tr><th>Row</th><th>Column</th><th>Value</th></tr></thead><tbody><tr><td>Agriculture</td><td>Agriculture</td><td>0.0</td></tr><tr><td>Manufacturing</td><td>Agriculture</td><td>0.26666666666666666</td></tr><tr><td>Services</td><td>Agriculture</td><td>0.2</td></tr><tr><td>Households</td><td>Agriculture</td><td>0.4</td></tr><tr><td>Government</td><td>Agriculture</td><td>0.13333333333333333</td></tr><tr><td>Agriculture</td><td>Manufacturing</td><td>0.22727272727272727</td></tr><tr><td>Manufacturing</td><td>Manufacturing</td><td>0.0</td></tr><tr><td>Services</td><td>Manufacturing</td><td>0.22727272727272727</td></tr><tr><td>Households</td><td>Manufacturing</td><td>0.4090909090909091</td></tr><tr><td>Government</td><td>Manufacturing</td><td>0.13636363636363635</td></tr><tr><td>Agriculture</td><td>Services</td><td>0.13636363636363635</td></tr><tr><td>Manufacturing</td><td>Services</td><td>0.3181818181818182</td></tr><tr><td>Services</td><td>Services</td><td>0.0</td></tr><tr><td>Households</td><td>Services</td><td>0.36363636363636365</td></tr><tr><td>Government</td><td>Services</td><td>0.18181818181818182</td></tr><tr><td>Agriculture</td><td>Households</td><td>0.20689655172413793</td></tr><tr><td>Manufacturing</td><td>Households</td><td>0.3103448275862069</td></tr><tr><td>Services</td><td>Households</td><td>0.27586206896551724</td></tr><tr><td>Households</td><td>Households</td><td>0.0</td></tr><tr><td>Government</td><td>Households</td><td>0.20689655172413793</td></tr><tr><td>Agriculture</td><td>Government</td><td>0.13333333333333333</td></tr><tr><td>Manufacturing</td><td>Government</td><td>0.2</td></tr><tr><td>Services</td><td>Government</td><td>0.26666666666666666</td></tr><tr><td>Households</td><td>Government</td><td>0.4</td></tr><tr><td>Government</td><td>Government</td><td>0.0</td></tr></tbody></table></div>"
      ]
     },
     "metadata": {
      "application/vnd.databricks.v1+output": {
       "addedWidgets": {},
       "aggData": [],
       "aggError": "",
       "aggOverflow": false,
       "aggSchema": [],
       "aggSeriesLimitReached": false,
       "aggType": "",
       "arguments": {},
       "columnCustomDisplayInfos": {},
       "data": [
        [
         "Agriculture",
         "Agriculture",
         0.0
        ],
        [
         "Manufacturing",
         "Agriculture",
         0.26666666666666666
        ],
        [
         "Services",
         "Agriculture",
         0.2
        ],
        [
         "Households",
         "Agriculture",
         0.4
        ],
        [
         "Government",
         "Agriculture",
         0.13333333333333333
        ],
        [
         "Agriculture",
         "Manufacturing",
         0.22727272727272727
        ],
        [
         "Manufacturing",
         "Manufacturing",
         0.0
        ],
        [
         "Services",
         "Manufacturing",
         0.22727272727272727
        ],
        [
         "Households",
         "Manufacturing",
         0.4090909090909091
        ],
        [
         "Government",
         "Manufacturing",
         0.13636363636363635
        ],
        [
         "Agriculture",
         "Services",
         0.13636363636363635
        ],
        [
         "Manufacturing",
         "Services",
         0.3181818181818182
        ],
        [
         "Services",
         "Services",
         0.0
        ],
        [
         "Households",
         "Services",
         0.36363636363636365
        ],
        [
         "Government",
         "Services",
         0.18181818181818182
        ],
        [
         "Agriculture",
         "Households",
         0.20689655172413793
        ],
        [
         "Manufacturing",
         "Households",
         0.3103448275862069
        ],
        [
         "Services",
         "Households",
         0.27586206896551724
        ],
        [
         "Households",
         "Households",
         0.0
        ],
        [
         "Government",
         "Households",
         0.20689655172413793
        ],
        [
         "Agriculture",
         "Government",
         0.13333333333333333
        ],
        [
         "Manufacturing",
         "Government",
         0.2
        ],
        [
         "Services",
         "Government",
         0.26666666666666666
        ],
        [
         "Households",
         "Government",
         0.4
        ],
        [
         "Government",
         "Government",
         0.0
        ]
       ],
       "datasetInfos": [],
       "dbfsResultPath": null,
       "isJsonSchema": true,
       "metadata": {},
       "overflow": false,
       "plotOptions": {
        "customPlotOptions": {},
        "displayType": "table",
        "pivotAggregation": null,
        "pivotColumns": null,
        "xColumns": null,
        "yColumns": null
       },
       "removedWidgets": [],
       "schema": [
        {
         "metadata": "{}",
         "name": "Row",
         "type": "\"string\""
        },
        {
         "metadata": "{}",
         "name": "Column",
         "type": "\"string\""
        },
        {
         "metadata": "{}",
         "name": "Value",
         "type": "\"double\""
        }
       ],
       "type": "table"
      }
     },
     "output_type": "display_data"
    }
   ],
   "source": [
    "# Convert back to Spark DataFrame -- with a temporary conversion into pandas dataframe\n",
    "A_df = spark.createDataFrame(pd.DataFrame(A, columns=columns, index=columns).reset_index().melt(id_vars=['index'], var_name='Column', value_name='Value'))\n",
    "A_df = A_df.withColumnRenamed('index', 'Row')\n",
    "display(A_df)"
   ]
  },
  {
   "cell_type": "markdown",
   "metadata": {
    "application/vnd.databricks.v1+cell": {
     "cellMetadata": {
      "byteLimit": 2048000,
      "rowLimit": 10000
     },
     "inputWidgets": {},
     "nuid": "af1d3636-a1f5-4a7f-93b5-dfd7b205ad00",
     "showTitle": false,
     "title": ""
    }
   },
   "source": [
    "Step 5. Compute the Leontief Inverse: The Leontief inverse is computed with regularization to handle potential singularity."
   ]
  },
  {
   "cell_type": "code",
   "execution_count": 0,
   "metadata": {
    "application/vnd.databricks.v1+cell": {
     "cellMetadata": {
      "byteLimit": 2048000,
      "rowLimit": 10000
     },
     "inputWidgets": {},
     "nuid": "b9c32677-85b8-446d-b5f6-c535180a8e25",
     "showTitle": false,
     "title": ""
    }
   },
   "outputs": [],
   "source": [
    "# Compute the Leontief inverse\n",
    "regularized_matrix = A + np.eye(normalized_sam.shape[0]) * epsilon\n",
    "# np.eye creates an identity matrix of the same size as A (using normalized_sam as the reference for dimensions) and multiplies it by ϵ.\n",
    "\n",
    "# compute the inverse of the square matrix\n",
    "try:\n",
    "    leontief_inverse = np.linalg.inv(regularized_matrix)\n",
    "except np.linalg.LinAlgError:\n",
    "    leontief_inverse = np.linalg.pinv(regularized_matrix)\n"
   ]
  },
  {
   "cell_type": "markdown",
   "metadata": {
    "application/vnd.databricks.v1+cell": {
     "cellMetadata": {
      "byteLimit": 2048000,
      "rowLimit": 10000
     },
     "inputWidgets": {},
     "nuid": "af7e695a-6890-4acd-8879-4b338914dd7b",
     "showTitle": false,
     "title": ""
    }
   },
   "source": [
    "Step 6. Convert Leontief Inverse to Spark DataFrame: The Leontief inverse is converted to a Spark DataFrame and displayed."
   ]
  },
  {
   "cell_type": "code",
   "execution_count": 0,
   "metadata": {
    "application/vnd.databricks.v1+cell": {
     "cellMetadata": {
      "byteLimit": 2048000,
      "rowLimit": 10000
     },
     "inputWidgets": {},
     "nuid": "d8895181-d960-4dbf-8f7b-96295bf94b2e",
     "showTitle": false,
     "title": ""
    }
   },
   "outputs": [
    {
     "output_type": "display_data",
     "data": {
      "text/html": [
       "<style scoped>\n",
       "  .table-result-container {\n",
       "    max-height: 300px;\n",
       "    overflow: auto;\n",
       "  }\n",
       "  table, th, td {\n",
       "    border: 1px solid black;\n",
       "    border-collapse: collapse;\n",
       "  }\n",
       "  th, td {\n",
       "    padding: 5px;\n",
       "  }\n",
       "  th {\n",
       "    text-align: left;\n",
       "  }\n",
       "</style><div class='table-result-container'><table class='table-result'><thead style='background-color: white'><tr><th>Row</th><th>Column</th><th>Value</th></tr></thead><tbody><tr><td>Agriculture</td><td>Agriculture</td><td>-5.29796512030974</td></tr><tr><td>Manufacturing</td><td>Agriculture</td><td>0.9912790698120217</td></tr><tr><td>Services</td><td>Agriculture</td><td>2.2063953505639486</td></tr><tr><td>Households</td><td>Agriculture</td><td>0.8219476743681284</td></tr><tr><td>Government</td><td>Agriculture</td><td>2.278343025465641</td></tr><tr><td>Agriculture</td><td>Manufacturing</td><td>-0.5014534898095933</td></tr><tr><td>Manufacturing</td><td>Manufacturing</td><td>-2.8032945750197493</td></tr><tr><td>Services</td><td>Manufacturing</td><td>1.5668604661655774</td></tr><tr><td>Households</td><td>Manufacturing</td><td>0.7938468991965968</td></tr><tr><td>Government</td><td>Manufacturing</td><td>1.9440406993671682</td></tr><tr><td>Agriculture</td><td>Services</td><td>1.9622093037478465</td></tr><tr><td>Manufacturing</td><td>Services</td><td>0.447674418438047</td></tr><tr><td>Services</td><td>Services</td><td>-3.261627908617978</td></tr><tr><td>Households</td><td>Services</td><td>1.306686046883716</td></tr><tr><td>Government</td><td>Services</td><td>0.5450581394483683</td></tr><tr><td>Agriculture</td><td>Households</td><td>0.7085755816510113</td></tr><tr><td>Manufacturing</td><td>Households</td><td>0.772771317959645</td></tr><tr><td>Services</td><td>Households</td><td>0.6555232558598436</td></tr><tr><td>Households</td><td>Households</td><td>-1.5420300392464106</td></tr><tr><td>Government</td><td>Households</td><td>0.4051598836759105</td></tr><tr><td>Agriculture</td><td>Government</td><td>3.4338662830178537</td></tr><tr><td>Manufacturing</td><td>Government</td><td>2.6167635677600334</td></tr><tr><td>Services</td><td>Government</td><td>-0.2078488386385125</td></tr><tr><td>Households</td><td>Government</td><td>1.078367248404003</td></tr><tr><td>Government</td><td>Government</td><td>-5.921148260643378</td></tr></tbody></table></div>"
      ]
     },
     "metadata": {
      "application/vnd.databricks.v1+output": {
       "addedWidgets": {},
       "aggData": [],
       "aggError": "",
       "aggOverflow": false,
       "aggSchema": [],
       "aggSeriesLimitReached": false,
       "aggType": "",
       "arguments": {},
       "columnCustomDisplayInfos": {},
       "data": [
        [
         "Agriculture",
         "Agriculture",
         -5.29796512030974
        ],
        [
         "Manufacturing",
         "Agriculture",
         0.9912790698120217
        ],
        [
         "Services",
         "Agriculture",
         2.2063953505639486
        ],
        [
         "Households",
         "Agriculture",
         0.8219476743681284
        ],
        [
         "Government",
         "Agriculture",
         2.278343025465641
        ],
        [
         "Agriculture",
         "Manufacturing",
         -0.5014534898095933
        ],
        [
         "Manufacturing",
         "Manufacturing",
         -2.8032945750197493
        ],
        [
         "Services",
         "Manufacturing",
         1.5668604661655774
        ],
        [
         "Households",
         "Manufacturing",
         0.7938468991965968
        ],
        [
         "Government",
         "Manufacturing",
         1.9440406993671682
        ],
        [
         "Agriculture",
         "Services",
         1.9622093037478465
        ],
        [
         "Manufacturing",
         "Services",
         0.447674418438047
        ],
        [
         "Services",
         "Services",
         -3.261627908617978
        ],
        [
         "Households",
         "Services",
         1.306686046883716
        ],
        [
         "Government",
         "Services",
         0.5450581394483683
        ],
        [
         "Agriculture",
         "Households",
         0.7085755816510113
        ],
        [
         "Manufacturing",
         "Households",
         0.772771317959645
        ],
        [
         "Services",
         "Households",
         0.6555232558598436
        ],
        [
         "Households",
         "Households",
         -1.5420300392464106
        ],
        [
         "Government",
         "Households",
         0.4051598836759105
        ],
        [
         "Agriculture",
         "Government",
         3.4338662830178537
        ],
        [
         "Manufacturing",
         "Government",
         2.6167635677600334
        ],
        [
         "Services",
         "Government",
         -0.2078488386385125
        ],
        [
         "Households",
         "Government",
         1.078367248404003
        ],
        [
         "Government",
         "Government",
         -5.921148260643378
        ]
       ],
       "datasetInfos": [],
       "dbfsResultPath": null,
       "isJsonSchema": true,
       "metadata": {},
       "overflow": false,
       "plotOptions": {
        "customPlotOptions": {},
        "displayType": "table",
        "pivotAggregation": null,
        "pivotColumns": null,
        "xColumns": null,
        "yColumns": null
       },
       "removedWidgets": [],
       "schema": [
        {
         "metadata": "{}",
         "name": "Row",
         "type": "\"string\""
        },
        {
         "metadata": "{}",
         "name": "Column",
         "type": "\"string\""
        },
        {
         "metadata": "{}",
         "name": "Value",
         "type": "\"double\""
        }
       ],
       "type": "table"
      }
     },
     "output_type": "display_data"
    }
   ],
   "source": [
    "leontief_inverse_df = spark.createDataFrame(pd.DataFrame(leontief_inverse, columns=columns, index=columns).reset_index().melt(id_vars=['index'], var_name='Column', value_name='Value'))\n",
    "leontief_inverse_df = leontief_inverse_df.withColumnRenamed('index', 'Row')\n",
    "display(leontief_inverse_df)"
   ]
  },
  {
   "cell_type": "markdown",
   "metadata": {
    "application/vnd.databricks.v1+cell": {
     "cellMetadata": {
      "byteLimit": 2048000,
      "rowLimit": 10000
     },
     "inputWidgets": {},
     "nuid": "a8bf9452-f475-45dd-989d-60ce223bfe37",
     "showTitle": false,
     "title": ""
    }
   },
   "source": [
    "Step 7. Calculate Multipliers: The multipliers are calculated by summing the columns of the Leontief inverse, converted to Dataframe and displayed."
   ]
  },
  {
   "cell_type": "code",
   "execution_count": 0,
   "metadata": {
    "application/vnd.databricks.v1+cell": {
     "cellMetadata": {
      "byteLimit": 2048000,
      "rowLimit": 10000
     },
     "inputWidgets": {},
     "nuid": "1a545ea1-2924-4035-b120-ce116d81537e",
     "showTitle": false,
     "title": ""
    }
   },
   "outputs": [
    {
     "output_type": "display_data",
     "data": {
      "text/html": [
       "<style scoped>\n",
       "  .table-result-container {\n",
       "    max-height: 300px;\n",
       "    overflow: auto;\n",
       "  }\n",
       "  table, th, td {\n",
       "    border: 1px solid black;\n",
       "    border-collapse: collapse;\n",
       "  }\n",
       "  th, td {\n",
       "    padding: 5px;\n",
       "  }\n",
       "  th {\n",
       "    text-align: left;\n",
       "  }\n",
       "</style><div class='table-result-container'><table class='table-result'><thead style='background-color: white'><tr><th>Sector</th><th>Multiplier</th></tr></thead><tbody><tr><td>Agriculture</td><td>0.9999999998999993</td></tr><tr><td>Manufacturing</td><td>0.9999999998999995</td></tr><tr><td>Services</td><td>0.9999999998999999</td></tr><tr><td>Households</td><td>0.9999999999</td></tr><tr><td>Government</td><td>0.9999999999</td></tr></tbody></table></div>"
      ]
     },
     "metadata": {
      "application/vnd.databricks.v1+output": {
       "addedWidgets": {},
       "aggData": [],
       "aggError": "",
       "aggOverflow": false,
       "aggSchema": [],
       "aggSeriesLimitReached": false,
       "aggType": "",
       "arguments": {},
       "columnCustomDisplayInfos": {},
       "data": [
        [
         "Agriculture",
         0.9999999998999993
        ],
        [
         "Manufacturing",
         0.9999999998999995
        ],
        [
         "Services",
         0.9999999998999999
        ],
        [
         "Households",
         0.9999999999
        ],
        [
         "Government",
         0.9999999999
        ]
       ],
       "datasetInfos": [],
       "dbfsResultPath": null,
       "isJsonSchema": true,
       "metadata": {},
       "overflow": false,
       "plotOptions": {
        "customPlotOptions": {},
        "displayType": "table",
        "pivotAggregation": null,
        "pivotColumns": null,
        "xColumns": null,
        "yColumns": null
       },
       "removedWidgets": [],
       "schema": [
        {
         "metadata": "{}",
         "name": "Sector",
         "type": "\"string\""
        },
        {
         "metadata": "{}",
         "name": "Multiplier",
         "type": "\"double\""
        }
       ],
       "type": "table"
      }
     },
     "output_type": "display_data"
    }
   ],
   "source": [
    "# Calculate multipliers\n",
    "multipliers = leontief_inverse.sum(axis=0)\n",
    "multipliers_df = spark.createDataFrame(pd.DataFrame(multipliers, columns=[\"Multiplier\"], index=columns).reset_index().rename(columns={'index': 'Sector'}))\n",
    "display(multipliers_df)"
   ]
  },
  {
   "cell_type": "markdown",
   "metadata": {
    "application/vnd.databricks.v1+cell": {
     "cellMetadata": {
      "byteLimit": 2048000,
      "rowLimit": 10000
     },
     "inputWidgets": {},
     "nuid": "8c7bba80-af3b-4111-accb-6eb7638eb2eb",
     "showTitle": false,
     "title": ""
    }
   },
   "source": [
    "Step 8. Perform Shock Analysis: A 10% increase in final demand for the Agriculture sector is introduced, and the impact on all sectors is calculated using the Leontief inverse."
   ]
  },
  {
   "cell_type": "code",
   "execution_count": 0,
   "metadata": {
    "application/vnd.databricks.v1+cell": {
     "cellMetadata": {
      "byteLimit": 2048000,
      "rowLimit": 10000
     },
     "inputWidgets": {},
     "nuid": "c32a08c9-08f6-4b44-8bfd-5e974cd5c08e",
     "showTitle": false,
     "title": ""
    }
   },
   "outputs": [
    {
     "output_type": "display_data",
     "data": {
      "text/html": [
       "<style scoped>\n",
       "  .table-result-container {\n",
       "    max-height: 300px;\n",
       "    overflow: auto;\n",
       "  }\n",
       "  table, th, td {\n",
       "    border: 1px solid black;\n",
       "    border-collapse: collapse;\n",
       "  }\n",
       "  th, td {\n",
       "    padding: 5px;\n",
       "  }\n",
       "  th {\n",
       "    text-align: left;\n",
       "  }\n",
       "</style><div class='table-result-container'><table class='table-result'><thead style='background-color: white'><tr><th>Sector</th><th>Impact</th></tr></thead><tbody><tr><td>Agriculture</td><td>-0.5297965120309741</td></tr><tr><td>Manufacturing</td><td>0.09912790698120218</td></tr><tr><td>Services</td><td>0.2206395350563949</td></tr><tr><td>Households</td><td>0.08219476743681285</td></tr><tr><td>Government</td><td>0.22783430254656412</td></tr></tbody></table></div>"
      ]
     },
     "metadata": {
      "application/vnd.databricks.v1+output": {
       "addedWidgets": {},
       "aggData": [],
       "aggError": "",
       "aggOverflow": false,
       "aggSchema": [],
       "aggSeriesLimitReached": false,
       "aggType": "",
       "arguments": {},
       "columnCustomDisplayInfos": {},
       "data": [
        [
         "Agriculture",
         -0.5297965120309741
        ],
        [
         "Manufacturing",
         0.09912790698120218
        ],
        [
         "Services",
         0.2206395350563949
        ],
        [
         "Households",
         0.08219476743681285
        ],
        [
         "Government",
         0.22783430254656412
        ]
       ],
       "datasetInfos": [],
       "dbfsResultPath": null,
       "isJsonSchema": true,
       "metadata": {},
       "overflow": false,
       "plotOptions": {
        "customPlotOptions": {},
        "displayType": "table",
        "pivotAggregation": null,
        "pivotColumns": null,
        "xColumns": null,
        "yColumns": null
       },
       "removedWidgets": [],
       "schema": [
        {
         "metadata": "{}",
         "name": "Sector",
         "type": "\"string\""
        },
        {
         "metadata": "{}",
         "name": "Impact",
         "type": "\"double\""
        }
       ],
       "type": "table"
      }
     },
     "output_type": "display_data"
    },
    {
     "output_type": "display_data",
     "data": {
      "text/plain": [
       "Databricks visualization. Run in Databricks to view."
      ]
     },
     "metadata": {
      "application/vnd.databricks.v1.subcommand+json": {
       "baseErrorDetails": null,
       "bindings": {},
       "collapsed": false,
       "command": "%python\n__backend_agg_display_orig = display\n__backend_agg_dfs = []\ndef __backend_agg_display_new(df):\n    __backend_agg_df_modules = [\"pandas.core.frame\", \"databricks.koalas.frame\", \"pyspark.sql.dataframe\", \"pyspark.pandas.frame\", \"pyspark.sql.connect.dataframe\"]\n    if (type(df).__module__ in __backend_agg_df_modules and type(df).__name__ == 'DataFrame') or isinstance(df, list):\n        __backend_agg_dfs.append(df)\n\ndisplay = __backend_agg_display_new\n\ndef __backend_agg_user_code_fn():\n    import base64\n    exec(base64.standard_b64decode(\"IyBQZXJmb3JtIFNob2NrIEFuYWx5c2lzOiAxMCUgaW5jcmVhc2UgaW4gZmluYWwgZGVtYW5kIGZvciBBZ3JpY3VsdHVyZQpzaG9ja192ZWN0b3IgPSBucC56ZXJvcyg1KQpzaG9ja192ZWN0b3JbMF0gPSAwLjEwICAjIDEwJSBpbmNyZWFzZSBpbiBBZ3JpY3VsdHVyZQoKIyBDYWxjdWxhdGUgdGhlIGltcGFjdCBvZiB0aGUgc2hvY2sKaW1wYWN0X3ZlY3RvciA9IGxlb250aWVmX2ludmVyc2UgQCBzaG9ja192ZWN0b3IKaW1wYWN0X2RmID0gc3BhcmsuY3JlYXRlRGF0YUZyYW1lKHBkLkRhdGFGcmFtZShpbXBhY3RfdmVjdG9yLCBjb2x1bW5zPVsiSW1wYWN0Il0sIGluZGV4PWNvbHVtbnMpLnJlc2V0X2luZGV4KCkucmVuYW1lKGNvbHVtbnM9eydpbmRleCc6ICdTZWN0b3InfSkpCmRpc3BsYXkoaW1wYWN0X2RmKQo=\").decode())\n\ntry:\n    # run user code\n    __backend_agg_user_code_fn()\n\n    #reset display function\n    display = __backend_agg_display_orig\n\n    if len(__backend_agg_dfs) > 0:\n        # create a temp view\n        if type(__backend_agg_dfs[0]).__module__ == \"databricks.koalas.frame\":\n            # koalas dataframe\n            __backend_agg_dfs[0].to_spark().createOrReplaceTempView(\"DatabricksView0b683c3\")\n        elif type(__backend_agg_dfs[0]).__module__ == \"pandas.core.frame\" or isinstance(__backend_agg_dfs[0], list):\n            # pandas dataframe\n            spark.createDataFrame(__backend_agg_dfs[0]).createOrReplaceTempView(\"DatabricksView0b683c3\")\n        else:\n            __backend_agg_dfs[0].createOrReplaceTempView(\"DatabricksView0b683c3\")\n        #run backend agg\n        display(spark.sql(\"\"\"WITH q AS (select * from DatabricksView0b683c3) SELECT `Sector`,SUM(`Impact`) `column_9a954ccb5` FROM q GROUP BY `Sector`\"\"\"))\n    else:\n        displayHTML(\"dataframe no longer exists. If you're using dataframe.display(), use display(dataframe) instead.\")\n\n\nfinally:\n    spark.sql(\"drop view if exists DatabricksView0b683c3\")\n    display = __backend_agg_display_orig\n    del __backend_agg_display_new\n    del __backend_agg_display_orig\n    del __backend_agg_dfs\n    del __backend_agg_user_code_fn\n\n",
       "commandTitle": "Visualization 1",
       "commandType": "auto",
       "commandVersion": 0,
       "commentThread": [],
       "commentsVisible": false,
       "contentSha256Hex": null,
       "customPlotOptions": {
        "redashChart": [
         {
          "key": "type",
          "value": "CHART"
         },
         {
          "key": "options",
          "value": {
           "alignYAxesAtZero": true,
           "coefficient": 1,
           "columnConfigurationMap": {
            "x": {
             "column": "Sector",
             "id": "column_9a954ccb4"
            },
            "y": [
             {
              "column": "Impact",
              "id": "column_9a954ccb5",
              "transform": "SUM"
             }
            ]
           },
           "dateTimeFormat": "DD/MM/YYYY HH:mm",
           "direction": {
            "type": "counterclockwise"
           },
           "error_y": {
            "type": "data",
            "visible": true
           },
           "globalSeriesType": "column",
           "legend": {
            "traceorder": "normal"
           },
           "missingValuesAsZero": true,
           "numberFormat": "0,0.[00000]",
           "percentFormat": "0[.]00%",
           "series": {
            "error_y": {
             "type": "data",
             "visible": true
            },
            "stacking": null
           },
           "seriesOptions": {
            "column_9a954ccb5": {
             "name": "Impact",
             "yAxis": 0
            }
           },
           "showDataLabels": false,
           "sizemode": "diameter",
           "sortX": true,
           "sortY": true,
           "swappedAxes": true,
           "textFormat": "",
           "useAggregationsUi": true,
           "valuesOptions": {},
           "version": 2,
           "xAxis": {
            "labels": {
             "enabled": true
            },
            "type": "-"
           },
           "yAxis": [
            {
             "type": "-"
            },
            {
             "opposite": true,
             "type": "-"
            }
           ]
          }
         }
        ]
       },
       "datasetPreviewNameToCmdIdMap": {},
       "diffDeletes": [],
       "diffInserts": [],
       "displayType": "redashChart",
       "error": null,
       "errorDetails": null,
       "errorSummary": null,
       "errorTraceType": null,
       "finishTime": 0,
       "globalVars": {},
       "guid": "",
       "height": "auto",
       "hideCommandCode": false,
       "hideCommandResult": false,
       "iPythonMetadata": null,
       "inputWidgets": {},
       "isLockedInExamMode": false,
       "latestUser": "a user",
       "latestUserId": null,
       "listResultMetadata": null,
       "metadata": {
        "byteLimit": 2048000,
        "rowLimit": 10000
       },
       "nuid": "0ada496b-adc2-4328-912a-2fc495508bd3",
       "origId": 0,
       "parentHierarchy": [],
       "pivotAggregation": null,
       "pivotColumns": null,
       "position": 13.0,
       "resultDbfsErrorMessage": null,
       "resultDbfsStatus": "INLINED_IN_TREE",
       "results": null,
       "showCommandTitle": false,
       "startTime": 0,
       "state": "input",
       "streamStates": {},
       "subcommandOptions": {
        "queryPlan": {
         "groups": [
          {
           "column": "Sector",
           "type": "column"
          }
         ],
         "selects": [
          {
           "column": "Sector",
           "type": "column"
          },
          {
           "alias": "column_9a954ccb5",
           "args": [
            {
             "column": "Impact",
             "type": "column"
            }
           ],
           "function": "SUM",
           "type": "function"
          }
         ]
        }
       },
       "submitTime": 0,
       "subtype": "tableResultSubCmd.visualization",
       "tableResultIndex": 0,
       "useConsistentColors": false,
       "version": "CommandV1",
       "width": "auto",
       "workflows": [],
       "xColumns": null,
       "yColumns": null
      }
     },
     "output_type": "display_data"
    }
   ],
   "source": [
    "# Perform Shock Analysis: 10% increase in final demand for Agriculture\n",
    "shock_vector = np.zeros(5)\n",
    "shock_vector[0] = 0.10  # 10% increase in Agriculture\n",
    "\n",
    "# Calculate the impact of the shock\n",
    "impact_vector = leontief_inverse @ shock_vector\n",
    "impact_df = spark.createDataFrame(pd.DataFrame(impact_vector, columns=[\"Impact\"], index=columns).reset_index().rename(columns={'index': 'Sector'}))\n",
    "display(impact_df)\n"
   ]
  },
  {
   "cell_type": "markdown",
   "metadata": {
    "application/vnd.databricks.v1+cell": {
     "cellMetadata": {
      "byteLimit": 2048000,
      "rowLimit": 10000
     },
     "inputWidgets": {},
     "nuid": "084659e4-22e9-4904-b98f-500709418ac2",
     "showTitle": false,
     "title": ""
    }
   },
   "source": [
    "## Incorporate the impact analysis results back into the initial Social Accounting Matrix (SAM) using the RAS method."
   ]
  },
  {
   "cell_type": "code",
   "execution_count": 0,
   "metadata": {
    "application/vnd.databricks.v1+cell": {
     "cellMetadata": {
      "byteLimit": 2048000,
      "rowLimit": 10000
     },
     "inputWidgets": {},
     "nuid": "cdc844cd-cd14-45b8-9784-c8cb49e4a25b",
     "showTitle": false,
     "title": ""
    }
   },
   "outputs": [
    {
     "output_type": "stream",
     "name": "stdout",
     "output_type": "stream",
     "text": [
      "Updated SAM matrix:\n[[ 0.         49.83666536 29.90836929 59.7776709  19.94963921]\n [39.85196587  0.         70.10609346 90.07753573 30.0616319 ]\n [29.90617712 50.09393077  0.         80.11500463 40.10524532]\n [59.76607149 90.09930263 80.10533033  0.         60.11131787]\n [19.945989   30.06922915 40.10084646 60.11198351  0.        ]]\n"
     ]
    }
   ],
   "source": [
    "\"\"\"\n",
    "Reciprocal Alteration of Selection\n",
    "\n",
    "The RAS method iteratively adjusts the rows and columns of the original SAM to match the new target sums, ensuring the matrix remains balanced.\n",
    "\n",
    "Adjusts the rows and columns of the matrix to match the target sums iteratively.\n",
    "\n",
    "The adjustment is done by scaling the rows and columns using the factors R and S.\n",
    "\"\"\"\n",
    "\n",
    "def ras_method(A, target_row_sums, target_col_sums, max_iter=100, tol=1e-5):\n",
    "    \"\"\"\n",
    "    Perform the RAS method to update the SAM matrix to match target row and column sums.\n",
    "    \"\"\"\n",
    "    n = A.shape[0]\n",
    "    R = np.ones(n)\n",
    "    S = np.ones(n)\n",
    "    for iteration in range(max_iter):\n",
    "        # Adjust rows\n",
    "        for i in range(n):\n",
    "            R[i] = target_row_sums[i] / np.sum(A[i, :] * S)\n",
    "        # Adjust columns\n",
    "        for j in range(n):\n",
    "            S[j] = target_col_sums[j] / np.sum(A[:, j] * R)\n",
    "        # Update A\n",
    "        A_new = (A.T * R).T * S\n",
    "        # Check convergence\n",
    "        if np.allclose(np.sum(A_new, axis=1), target_row_sums, atol=tol) and np.allclose(np.sum(A_new, axis=0), target_col_sums, atol=tol):\n",
    "            break\n",
    "        A = A_new\n",
    "    return A\n",
    "\n",
    "# Calculate the target row and column sums after impact analysis\n",
    "original_row_sums = sam_matrix.sum(axis=1)\n",
    "original_col_sums = sam_matrix.sum(axis=0)\n",
    "target_row_sums = original_row_sums + impact_vector\n",
    "target_col_sums = original_col_sums + impact_vector\n",
    "\n",
    "# Apply the RAS method to update the SAM matrix\n",
    "updated_sam = ras_method(sam_matrix, target_row_sums, target_col_sums)\n",
    "\n",
    "print(\"Updated SAM matrix:\")\n",
    "print(updated_sam)"
   ]
  },
  {
   "cell_type": "markdown",
   "metadata": {
    "application/vnd.databricks.v1+cell": {
     "cellMetadata": {
      "byteLimit": 2048000,
      "rowLimit": 10000
     },
     "inputWidgets": {},
     "nuid": "23783d7f-0ba8-463b-b26a-71d6805e3fec",
     "showTitle": false,
     "title": ""
    }
   },
   "source": [
    "Create a dataframe of the updated SAM matrix into for pretty display."
   ]
  },
  {
   "cell_type": "code",
   "execution_count": 0,
   "metadata": {
    "application/vnd.databricks.v1+cell": {
     "cellMetadata": {
      "byteLimit": 2048000,
      "rowLimit": 10000
     },
     "inputWidgets": {},
     "nuid": "7bb1a371-3888-43ac-a54b-6640ad86f5a7",
     "showTitle": false,
     "title": ""
    }
   },
   "outputs": [
    {
     "output_type": "stream",
     "name": "stdout",
     "output_type": "stream",
     "text": [
      "[(0.0, 49.836665364406734, 29.908369288857532, 59.777670896138055, 19.949639205890094), (39.851965872055686, 0.0, 70.10609345902074, 90.07753572537099, 30.061631899293744), (29.90617712361375, 50.09393077023064, 0.0, 80.11500463446434, 40.10524532344316), (59.76607149424284, 90.09930262633088, 80.1053303318681, 0.0, 60.1113178739196), (19.94598899805673, 30.069229146012944, 40.100846455310005, 60.111983511463464, 0.0)]\n"
     ]
    },
    {
     "output_type": "display_data",
     "data": {
      "text/html": [
       "<style scoped>\n",
       "  .table-result-container {\n",
       "    max-height: 300px;\n",
       "    overflow: auto;\n",
       "  }\n",
       "  table, th, td {\n",
       "    border: 1px solid black;\n",
       "    border-collapse: collapse;\n",
       "  }\n",
       "  th, td {\n",
       "    padding: 5px;\n",
       "  }\n",
       "  th {\n",
       "    text-align: left;\n",
       "  }\n",
       "</style><div class='table-result-container'><table class='table-result'><thead style='background-color: white'><tr><th>Agriculture</th><th>Manufacturing</th><th>Services</th><th>Households</th><th>Government</th></tr></thead><tbody><tr><td>0.0</td><td>49.836666</td><td>29.90837</td><td>59.77767</td><td>19.949638</td></tr><tr><td>39.851967</td><td>0.0</td><td>70.106094</td><td>90.07754</td><td>30.061632</td></tr><tr><td>29.906178</td><td>50.09393</td><td>0.0</td><td>80.115005</td><td>40.105244</td></tr><tr><td>59.76607</td><td>90.099304</td><td>80.10533</td><td>0.0</td><td>60.111317</td></tr><tr><td>19.94599</td><td>30.06923</td><td>40.100845</td><td>60.111984</td><td>0.0</td></tr></tbody></table></div>"
      ]
     },
     "metadata": {
      "application/vnd.databricks.v1+output": {
       "addedWidgets": {},
       "aggData": [],
       "aggError": "",
       "aggOverflow": false,
       "aggSchema": [],
       "aggSeriesLimitReached": false,
       "aggType": "",
       "arguments": {},
       "columnCustomDisplayInfos": {},
       "data": [
        [
         0.0,
         49.836666,
         29.90837,
         59.77767,
         19.949638
        ],
        [
         39.851967,
         0.0,
         70.106094,
         90.07754,
         30.061632
        ],
        [
         29.906178,
         50.09393,
         0.0,
         80.115005,
         40.105244
        ],
        [
         59.76607,
         90.099304,
         80.10533,
         0.0,
         60.111317
        ],
        [
         19.94599,
         30.06923,
         40.100845,
         60.111984,
         0.0
        ]
       ],
       "datasetInfos": [],
       "dbfsResultPath": null,
       "isJsonSchema": true,
       "metadata": {},
       "overflow": false,
       "plotOptions": {
        "customPlotOptions": {},
        "displayType": "table",
        "pivotAggregation": null,
        "pivotColumns": null,
        "xColumns": null,
        "yColumns": null
       },
       "removedWidgets": [],
       "schema": [
        {
         "metadata": "{}",
         "name": "Agriculture",
         "type": "\"float\""
        },
        {
         "metadata": "{}",
         "name": "Manufacturing",
         "type": "\"float\""
        },
        {
         "metadata": "{}",
         "name": "Services",
         "type": "\"float\""
        },
        {
         "metadata": "{}",
         "name": "Households",
         "type": "\"float\""
        },
        {
         "metadata": "{}",
         "name": "Government",
         "type": "\"float\""
        }
       ],
       "type": "table"
      }
     },
     "output_type": "display_data"
    }
   ],
   "source": [
    "from pyspark.sql.types import StructType, StructField, FloatType\n",
    "\n",
    "# Convert the updated_sam matrix to a list of tuples\n",
    "updated_sam_list = [tuple(map(float, row)) for row in updated_sam]\n",
    "print(updated_sam_list)\n",
    "\n",
    "# Define column names\n",
    "columns = ['Agriculture', 'Manufacturing', 'Services', 'Households', 'Government']\n",
    "\n",
    "# Define schema \n",
    "schema = StructType([StructField(col, FloatType(), True) for col in columns])\n",
    "\n",
    "# Create a Spark DataFrame\n",
    "updated_sam_df = spark.createDataFrame(updated_sam_list, schema=schema)\n",
    "\n",
    "# Display the Spark DataFrame\n",
    "display(updated_sam_df)"
   ]
  },
  {
   "cell_type": "markdown",
   "metadata": {
    "application/vnd.databricks.v1+cell": {
     "cellMetadata": {
      "byteLimit": 2048000,
      "rowLimit": 10000
     },
     "inputWidgets": {},
     "nuid": "d06c03be-a7ec-4c57-b2c8-d844e7eed655",
     "showTitle": false,
     "title": ""
    }
   },
   "source": [
    "## Perform the same impact analysis calculation in R"
   ]
  },
  {
   "cell_type": "code",
   "execution_count": 0,
   "metadata": {
    "application/vnd.databricks.v1+cell": {
     "cellMetadata": {
      "byteLimit": 2048000,
      "rowLimit": 10000
     },
     "inputWidgets": {},
     "nuid": "88dd5041-4f31-4371-a777-f616f9d6ba38",
     "showTitle": false,
     "title": ""
    }
   },
   "outputs": [
    {
     "output_type": "display_data",
     "data": {
      "text/html": [
       "<style scoped>\n",
       "  .table-result-container {\n",
       "    max-height: 300px;\n",
       "    overflow: auto;\n",
       "  }\n",
       "  table, th, td {\n",
       "    border: 1px solid black;\n",
       "    border-collapse: collapse;\n",
       "  }\n",
       "  th, td {\n",
       "    padding: 5px;\n",
       "  }\n",
       "  th {\n",
       "    text-align: left;\n",
       "  }\n",
       "</style><div class='table-result-container'><table class='table-result'><thead style='background-color: white'><tr><th>Sector</th><th>Impact</th></tr></thead><tbody><tr><td>Agriculture</td><td>-0.5297965120309741</td></tr><tr><td>Manufacturing</td><td>0.09912790698120218</td></tr><tr><td>Services</td><td>0.2206395350563949</td></tr><tr><td>Households</td><td>0.08219476743681285</td></tr><tr><td>Government</td><td>0.22783430254656412</td></tr></tbody></table></div>"
      ]
     },
     "metadata": {
      "application/vnd.databricks.v1+output": {
       "addedWidgets": {},
       "aggData": [],
       "aggError": "",
       "aggOverflow": false,
       "aggSchema": [],
       "aggSeriesLimitReached": false,
       "aggType": "",
       "arguments": {},
       "columnCustomDisplayInfos": {},
       "data": [
        [
         "Agriculture",
         -0.5297965120309741
        ],
        [
         "Manufacturing",
         0.09912790698120218
        ],
        [
         "Services",
         0.2206395350563949
        ],
        [
         "Households",
         0.08219476743681285
        ],
        [
         "Government",
         0.22783430254656412
        ]
       ],
       "datasetInfos": [],
       "dbfsResultPath": null,
       "isJsonSchema": true,
       "metadata": {},
       "overflow": false,
       "plotOptions": {
        "customPlotOptions": {},
        "displayType": "table",
        "pivotAggregation": null,
        "pivotColumns": null,
        "xColumns": null,
        "yColumns": null
       },
       "removedWidgets": [],
       "schema": [
        {
         "metadata": "{}",
         "name": "Sector",
         "type": "\"string\""
        },
        {
         "metadata": "{}",
         "name": "Impact",
         "type": "\"double\""
        }
       ],
       "type": "table"
      }
     },
     "output_type": "display_data"
    },
    {
     "output_type": "display_data",
     "data": {
      "text/plain": [
       "Databricks visualization. Run in Databricks to view."
      ]
     },
     "metadata": {
      "application/vnd.databricks.v1.subcommand+json": {
       "baseErrorDetails": null,
       "bindings": {},
       "collapsed": false,
       "command": "%r\n{\nbackend_agg_display_orig__ <- display\nbackend_agg_dfs__ <- list()\nbackend_agg_display_new__ = function(df) {\n  if (is.data.frame(df) || is(df, \"DataFrame\") || is(df, \"SparkDataFrame\")) {\n    backend_agg_dfs__[[length(backend_agg_dfs__) + 1]] <<- df\n  } else {\n    if (\"tbl_spark\" %in% class(df)) {\n      backend_agg_dfs__[[length(backend_agg_dfs__) + 1]] <<- df %>% collect()\n    }\n  }\n}\ndisplay <- backend_agg_display_new__\n\nbackend_agg_user_code_fn__ = function() {\n  eval(parse(text=rawToChar(base64enc::base64decode(\"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\"))))\n}\n\ntryCatch({\n  # run user code\n  backend_agg_user_code_fn__()\n\n  # reset display function\n  display <- backend_agg_display_orig__\n\n  if (length(backend_agg_dfs__) > 0) {\n    # create a temp view\n    if (is.data.frame(backend_agg_dfs__[[1]])) {\n      SparkR:::createOrReplaceTempView(SparkR:::createDataFrame(backend_agg_dfs__[[1]]), \"DatabricksView6687b23\")\n    } else {\n      SparkR:::createOrReplaceTempView(backend_agg_dfs__[[1]], \"DatabricksView6687b23\")\n    }\n\n    # run backend agg\n    display(SparkR:::sql(\"WITH q AS (select * from DatabricksView6687b23) SELECT `Sector`,SUM(`Impact`) `column_7d20d33014` FROM q GROUP BY `Sector`\"))\n  } else {\n    displayHTML(\"dataframe no longer exists. If you're using dataframe.display(), use display(dataframe) instead.\")\n  }\n},\nfinally = {\n  # make sure reset display function\n  SparkR:::sql(\"drop view if exists DatabricksView6687b23\")\n  display <- backend_agg_display_orig__\n  rm(backend_agg_display_orig__)\n  rm(backend_agg_display_new__)\n  rm(backend_agg_dfs__)\n  rm(backend_agg_user_code_fn__)\n})\n}",
       "commandTitle": "Visualization 1",
       "commandType": "auto",
       "commandVersion": 0,
       "commentThread": [],
       "commentsVisible": false,
       "contentSha256Hex": null,
       "customPlotOptions": {
        "redashChart": [
         {
          "key": "type",
          "value": "CHART"
         },
         {
          "key": "options",
          "value": {
           "alignYAxesAtZero": true,
           "coefficient": 1,
           "columnConfigurationMap": {
            "x": {
             "column": "Sector",
             "id": "column_7d20d33013"
            },
            "y": [
             {
              "column": "Impact",
              "id": "column_7d20d33014",
              "transform": "SUM"
             }
            ]
           },
           "dateTimeFormat": "DD/MM/YYYY HH:mm",
           "direction": {
            "type": "counterclockwise"
           },
           "error_y": {
            "type": "data",
            "visible": true
           },
           "globalSeriesType": "column",
           "legend": {
            "traceorder": "normal"
           },
           "missingValuesAsZero": true,
           "numberFormat": "0,0.[00000]",
           "percentFormat": "0[.]00%",
           "series": {
            "error_y": {
             "type": "data",
             "visible": true
            },
            "stacking": null
           },
           "seriesOptions": {
            "column_7d20d33014": {
             "name": "Impact",
             "yAxis": 0
            }
           },
           "showDataLabels": false,
           "sizemode": "diameter",
           "sortX": true,
           "sortY": true,
           "swappedAxes": true,
           "textFormat": "",
           "useAggregationsUi": true,
           "valuesOptions": {},
           "version": 2,
           "xAxis": {
            "labels": {
             "enabled": true
            },
            "type": "-"
           },
           "yAxis": [
            {
             "type": "-"
            },
            {
             "opposite": true,
             "type": "-"
            }
           ]
          }
         }
        ]
       },
       "datasetPreviewNameToCmdIdMap": {},
       "diffDeletes": [],
       "diffInserts": [],
       "displayType": "redashChart",
       "error": null,
       "errorDetails": null,
       "errorSummary": null,
       "errorTraceType": null,
       "finishTime": 0,
       "globalVars": {},
       "guid": "",
       "height": "auto",
       "hideCommandCode": false,
       "hideCommandResult": false,
       "iPythonMetadata": null,
       "inputWidgets": {},
       "isLockedInExamMode": false,
       "latestUser": "a user",
       "latestUserId": null,
       "listResultMetadata": null,
       "metadata": {},
       "nuid": "538909bd-1d4f-4655-b095-65ec56289e10",
       "origId": 0,
       "parentHierarchy": [],
       "pivotAggregation": null,
       "pivotColumns": null,
       "position": 18.0,
       "resultDbfsErrorMessage": null,
       "resultDbfsStatus": "INLINED_IN_TREE",
       "results": null,
       "showCommandTitle": false,
       "startTime": 0,
       "state": "input",
       "streamStates": {},
       "subcommandOptions": {
        "queryPlan": {
         "groups": [
          {
           "column": "Sector",
           "type": "column"
          }
         ],
         "selects": [
          {
           "column": "Sector",
           "type": "column"
          },
          {
           "alias": "column_7d20d33014",
           "args": [
            {
             "column": "Impact",
             "type": "column"
            }
           ],
           "function": "SUM",
           "type": "function"
          }
         ]
        }
       },
       "submitTime": 0,
       "subtype": "tableResultSubCmd.visualization",
       "tableResultIndex": 0,
       "useConsistentColors": false,
       "version": "CommandV1",
       "width": "auto",
       "workflows": [],
       "xColumns": null,
       "yColumns": null
      }
     },
     "output_type": "display_data"
    },
    {
     "output_type": "stream",
     "name": "stdout",
     "output_type": "stream",
     "text": [
      "Normalized SAM matrix:\n              Agriculture Manufacturing  Services Households Government\nAgriculture     0.0000000     0.2272727 0.1363636  0.2068966  0.1333333\nManufacturing   0.2666667     0.0000000 0.3181818  0.3103448  0.2000000\nServices        0.2000000     0.2272727 0.0000000  0.2758621  0.2666667\nHouseholds      0.4000000     0.4090909 0.3636364  0.0000000  0.4000000\nGovernment      0.1333333     0.1363636 0.1818182  0.2068966  0.0000000\n\nRegularized SAM matrix:\n               Agriculture Manufacturing     Services   Households   Government\nAgriculture   0.0000000001  0.2272727273 0.1363636364 0.2068965517 0.1333333333\nManufacturing 0.2666666667  0.0000000001 0.3181818182 0.3103448276 0.2000000000\nServices      0.2000000000  0.2272727273 0.0000000001 0.2758620690 0.2666666667\nHouseholds    0.4000000000  0.4090909091 0.3636363636 0.0000000001 0.4000000000\nGovernment    0.1333333333  0.1363636364 0.1818181818 0.2068965517 0.0000000001\n\nInverse matrix of the regularized SAM:\n              Agriculture Manufacturing   Services Households Government\nAgriculture    -5.2979651    -0.5014535  1.9622093  0.7085756  3.4338663\nManufacturing   0.9912791    -2.8032946  0.4476744  0.7727713  2.6167636\nServices        2.2063954     1.5668605 -3.2616279  0.6555233 -0.2078488\nHouseholds      0.8219477     0.7938469  1.3066860 -1.5420300  1.0783672\nGovernment      2.2783430     1.9440407  0.5450581  0.4051599 -5.9211483"
     ]
    }
   ],
   "source": [
    "%r\n",
    "\n",
    "# Define the SAM matrix\n",
    "sam_matrix <- matrix(c(0, 50, 30, 60, 20,\n",
    "                       40, 0, 70, 90, 30,\n",
    "                       30, 50, 0, 80, 40,\n",
    "                       60, 90, 80, 0, 60,\n",
    "                       20, 30, 40, 60, 0), \n",
    "                     nrow = 5, byrow = TRUE)\n",
    "\n",
    "colnames(sam_matrix) <- c('Agriculture', 'Manufacturing', 'Services', 'Households', 'Government')\n",
    "rownames(sam_matrix) <- c('Agriculture', 'Manufacturing', 'Services', 'Households', 'Government')\n",
    "\n",
    "# Normalize the SAM matrix by dividing each element by the sum of its column\n",
    "column_sums <- colSums(sam_matrix)\n",
    "normalized_sam <- sam_matrix / column_sums[col(sam_matrix)]\n",
    "\n",
    "# Regularization parameter\n",
    "epsilon <- 1e-10\n",
    "\n",
    "# Add regularization to the diagonal\n",
    "regularized_matrix <- normalized_sam + diag(epsilon, nrow(normalized_sam), ncol(normalized_sam))\n",
    "\n",
    "# Function to compute the inverse and handle non-invertible matrices\n",
    "invert_matrix <- function(matrix) {\n",
    "  tryCatch({\n",
    "    inv_matrix <- solve(matrix)\n",
    "    return(inv_matrix)\n",
    "  }, error = function(e) {\n",
    "    cat(\"Matrix is not invertible:\", e$message, \"\\n\")\n",
    "    return(NULL)\n",
    "  })\n",
    "}\n",
    "\n",
    "# Compute the inverse of the regularized SAM matrix\n",
    "inverse_sam <- invert_matrix(regularized_matrix)\n",
    "\n",
    "if (!is.null(inverse_sam)) {\n",
    "  cat(\"Normalized SAM matrix:\\n\")\n",
    "  print(normalized_sam)\n",
    "  cat(\"\\nRegularized SAM matrix:\\n\")\n",
    "  print(regularized_matrix)\n",
    "  cat(\"\\nInverse matrix of the regularized SAM:\\n\")\n",
    "  print(inverse_sam)\n",
    "  \n",
    "  # Perform Shock Analysis: 10% increase in final demand for Agriculture\n",
    "  shock_vector <- c(0.10, 0, 0, 0, 0)\n",
    "  \n",
    "  # Calculate the impact of the shock\n",
    "  impact_vector <- inverse_sam %*% shock_vector\n",
    "  \n",
    "  # Convert the impact_vector to a Spark DataFrame\n",
    "  sectors <- c('Agriculture', 'Manufacturing', 'Services', 'Households', 'Government')\n",
    "  impact_df <- data.frame(Sector = sectors, Impact = as.numeric(impact_vector))\n",
    "#  impact_df <- as.DataFrame(data.frame(Sector = sectors, Impact = as.numeric(impact_vector)))\n",
    "  \n",
    "  # Display the Spark DataFrame\n",
    "  display(impact_df)\n",
    "}\n",
    "\n"
   ]
  }
 ],
 "metadata": {
  "application/vnd.databricks.v1+notebook": {
   "dashboards": [],
   "environmentMetadata": null,
   "language": "python",
   "notebookMetadata": {
    "mostRecentlyExecutedCommandWithImplicitDF": {
     "commandId": 4227523671319421,
     "dataframes": [
      "_sqldf"
     ]
    },
    "pythonIndentUnit": 4
   },
   "notebookName": "SAM Playground",
   "widgets": {}
  }
 },
 "nbformat": 4,
 "nbformat_minor": 0
}
