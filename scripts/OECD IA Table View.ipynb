{
 "cells": [
  {
   "cell_type": "code",
   "execution_count": 0,
   "metadata": {
    "application/vnd.databricks.v1+cell": {
     "cellMetadata": {
      "byteLimit": 2048000,
      "rowLimit": 10000
     },
     "inputWidgets": {},
     "nuid": "0ba7d761-cac1-4e4c-aaa5-0c0c38386416",
     "showTitle": false,
     "title": ""
    }
   },
   "outputs": [
    {
     "output_type": "display_data",
     "data": {
      "text/html": [
       "<style scoped>\n",
       "  .table-result-container {\n",
       "    max-height: 300px;\n",
       "    overflow: auto;\n",
       "  }\n",
       "  table, th, td {\n",
       "    border: 1px solid black;\n",
       "    border-collapse: collapse;\n",
       "  }\n",
       "  th, td {\n",
       "    padding: 5px;\n",
       "  }\n",
       "  th {\n",
       "    text-align: left;\n",
       "  }\n",
       "</style><div class='table-result-container'><table class='table-result'><thead style='background-color: white'><tr><th>Sector</th><th>Impact</th></tr></thead><tbody><tr><td>0</td><td>-1.5881140895228818</td></tr><tr><td>1</td><td>-1.0135630128423876</td></tr><tr><td>2</td><td>-1.2966814601026833</td></tr><tr><td>3</td><td>-4.858178242064764</td></tr><tr><td>4</td><td>1.9933717800950304</td></tr><tr><td>5</td><td>2.1889784487949187</td></tr><tr><td>6</td><td>0.2928543286912758</td></tr><tr><td>7</td><td>-0.18573293308461955</td></tr><tr><td>8</td><td>3.5328297959107893</td></tr><tr><td>9</td><td>-0.22295475445119972</td></tr><tr><td>10</td><td>-0.3736402854260772</td></tr><tr><td>11</td><td>-0.5481367492110207</td></tr><tr><td>12</td><td>3.112278134993255</td></tr><tr><td>13</td><td>0.5014624423310902</td></tr><tr><td>14</td><td>-0.39815960904015535</td></tr><tr><td>15</td><td>-0.9318776734933167</td></tr><tr><td>16</td><td>-0.2604139162454406</td></tr><tr><td>17</td><td>0.9434652860563532</td></tr><tr><td>18</td><td>1.678790306860439</td></tr><tr><td>19</td><td>-1.5978511864625464</td></tr><tr><td>20</td><td>-2.2522418376862414</td></tr><tr><td>21</td><td>1.6983390230516775</td></tr><tr><td>22</td><td>3.8827889660708297</td></tr><tr><td>23</td><td>8.591801916840293</td></tr><tr><td>24</td><td>-4.053558469245432</td></tr><tr><td>25</td><td>0.6620056726991361</td></tr><tr><td>26</td><td>-6.592306847967191</td></tr><tr><td>27</td><td>1.3541115754655009</td></tr><tr><td>28</td><td>5.739531131009849</td></tr><tr><td>29</td><td>7.239814873723846</td></tr><tr><td>30</td><td>-1.107350465163292</td></tr><tr><td>31</td><td>1.418045152481819</td></tr><tr><td>32</td><td>1.0964863452657878</td></tr><tr><td>33</td><td>-0.04217329966003648</td></tr><tr><td>34</td><td>3.047924097204663</td></tr><tr><td>35</td><td>-3.6012132720292964</td></tr><tr><td>36</td><td>10.720036138772702</td></tr><tr><td>37</td><td>4.749436342060324</td></tr><tr><td>38</td><td>-15.484656996658053</td></tr><tr><td>39</td><td>-9.68484536456478</td></tr><tr><td>40</td><td>5.036045966546776</td></tr><tr><td>41</td><td>0.7343696023585579</td></tr><tr><td>42</td><td>0.7072355542959458</td></tr><tr><td>43</td><td>-14.904463434258544</td></tr><tr><td>44</td><td>2.2611101760695815E9</td></tr></tbody></table></div>"
      ]
     },
     "metadata": {
      "application/vnd.databricks.v1+output": {
       "addedWidgets": {},
       "aggData": [],
       "aggError": "",
       "aggOverflow": false,
       "aggSchema": [],
       "aggSeriesLimitReached": false,
       "aggType": "",
       "arguments": {},
       "columnCustomDisplayInfos": {},
       "data": [
        [
         0,
         -1.5881140895228818
        ],
        [
         1,
         -1.0135630128423876
        ],
        [
         2,
         -1.2966814601026833
        ],
        [
         3,
         -4.858178242064764
        ],
        [
         4,
         1.9933717800950304
        ],
        [
         5,
         2.1889784487949187
        ],
        [
         6,
         0.2928543286912758
        ],
        [
         7,
         -0.18573293308461955
        ],
        [
         8,
         3.5328297959107893
        ],
        [
         9,
         -0.22295475445119972
        ],
        [
         10,
         -0.3736402854260772
        ],
        [
         11,
         -0.5481367492110207
        ],
        [
         12,
         3.112278134993255
        ],
        [
         13,
         0.5014624423310902
        ],
        [
         14,
         -0.39815960904015535
        ],
        [
         15,
         -0.9318776734933167
        ],
        [
         16,
         -0.2604139162454406
        ],
        [
         17,
         0.9434652860563532
        ],
        [
         18,
         1.678790306860439
        ],
        [
         19,
         -1.5978511864625464
        ],
        [
         20,
         -2.2522418376862414
        ],
        [
         21,
         1.6983390230516775
        ],
        [
         22,
         3.8827889660708297
        ],
        [
         23,
         8.591801916840293
        ],
        [
         24,
         -4.053558469245432
        ],
        [
         25,
         0.6620056726991361
        ],
        [
         26,
         -6.592306847967191
        ],
        [
         27,
         1.3541115754655009
        ],
        [
         28,
         5.739531131009849
        ],
        [
         29,
         7.239814873723846
        ],
        [
         30,
         -1.107350465163292
        ],
        [
         31,
         1.418045152481819
        ],
        [
         32,
         1.0964863452657878
        ],
        [
         33,
         -0.04217329966003648
        ],
        [
         34,
         3.047924097204663
        ],
        [
         35,
         -3.6012132720292964
        ],
        [
         36,
         10.720036138772702
        ],
        [
         37,
         4.749436342060324
        ],
        [
         38,
         -15.484656996658053
        ],
        [
         39,
         -9.68484536456478
        ],
        [
         40,
         5.036045966546776
        ],
        [
         41,
         0.7343696023585579
        ],
        [
         42,
         0.7072355542959458
        ],
        [
         43,
         -14.904463434258544
        ],
        [
         44,
         2.2611101760695815E9
        ]
       ],
       "datasetInfos": [],
       "dbfsResultPath": null,
       "isJsonSchema": true,
       "metadata": {},
       "overflow": false,
       "plotOptions": {
        "customPlotOptions": {},
        "displayType": "table",
        "pivotAggregation": null,
        "pivotColumns": null,
        "xColumns": null,
        "yColumns": null
       },
       "removedWidgets": [],
       "schema": [
        {
         "metadata": "{}",
         "name": "Sector",
         "type": "\"long\""
        },
        {
         "metadata": "{}",
         "name": "Impact",
         "type": "\"double\""
        }
       ],
       "type": "table"
      }
     },
     "output_type": "display_data"
    }
   ],
   "source": [
    "# Read the Delta table into a Spark DataFrame\n",
    "catalog_name = \"sam\"\n",
    "schema_name = \"oecd\"\n",
    "ia_table_name = \"IA_ita2020_matrix_f3a4c0c9\"\n",
    "\n",
    "df_matrix = spark.table(f\"{catalog_name}.{schema_name}.{ia_table_name}\")\n",
    "display(df_matrix)"
   ]
  },
  {
   "cell_type": "code",
   "execution_count": 0,
   "metadata": {
    "application/vnd.databricks.v1+cell": {
     "cellMetadata": {
      "byteLimit": 2048000,
      "rowLimit": 10000
     },
     "inputWidgets": {},
     "nuid": "9e9dab4e-61a6-45bc-9413-5eb63c241f46",
     "showTitle": false,
     "title": ""
    }
   },
   "outputs": [
    {
     "output_type": "stream",
     "name": "stdout",
     "output_type": "stream",
     "text": [
      "DataFrame[Sector: bigint, Impact: double]\n"
     ]
    }
   ],
   "source": [
    "print(df_matrix)"
   ]
  },
  {
   "cell_type": "code",
   "execution_count": 0,
   "metadata": {
    "application/vnd.databricks.v1+cell": {
     "cellMetadata": {
      "byteLimit": 2048000,
      "rowLimit": 10000
     },
     "inputWidgets": {},
     "nuid": "3f7b21e4-bb16-43c8-baba-8b762da7695b",
     "showTitle": false,
     "title": ""
    }
   },
   "outputs": [
    {
     "output_type": "stream",
     "name": "stdout",
     "output_type": "stream",
     "text": [
      "DataFrame written to single CSV file at /Volumes/sam/oecd/ia_outputs/csv/ita2020_matrix_f3a4c0c9.csv\n"
     ]
    }
   ],
   "source": [
    "import os\n",
    "# To store the table as a single CSV file it must first be repartioned into a temporary file.\n",
    "#\n",
    "# The use of a temporary directory is because of how Spark handles file output. When Spark writes out files, even if you specify a\n",
    "# single partition, it writes the output to a directory, creating part files within that directory. \n",
    "# To ensure to get a single CSV file these parts need to be handled and moved them as needed.\n",
    "#\n",
    "\n",
    "# Define the path variables\n",
    "catalog_name = \"sam\"\n",
    "schema_name = \"oecd\"\n",
    "volume_name = \"ia_outputs\"  # this is a managed volume in the unity catalog\n",
    "table_name = \"ita2020_matrix_f3a4c0c9.csv\"\n",
    "\n",
    "# Final path in the catalog where the single CSV file should be stored\n",
    "final_path = f\"/Volumes/{catalog_name}/{schema_name}/{volume_name}/csv/{table_name}\"\n",
    "\n",
    "# Temporary path for storing the repartitioned DataFrame in dbfs\n",
    "temp_path = f\"/dbfs/Volumes/{catalog_name}/{schema_name}/{volume_name}/csv/{table_name}\"\n",
    "\n",
    "# Repartition the DataFrame to have only one partition\n",
    "df_repartitioned = df_matrix.repartition(1)\n",
    "\n",
    "# Write the repartitioned DataFrame to the temporary path\n",
    "df_repartitioned.write.option(\"header\", \"true\").csv(temp_path)\n",
    "\n",
    "# Move the single CSV file to the final path\n",
    "# List the files in the temporary directory\n",
    "files = dbutils.fs.ls(temp_path)\n",
    "\n",
    "# Find the CSV file in the temporary directory\n",
    "csv_file = [file.path for file in files if file.path.endswith(\".csv\")][0]\n",
    "\n",
    "# Move the file from the temporary directory to the final path\n",
    "dbutils.fs.mv(csv_file, final_path)\n",
    "\n",
    "# Clean up the temporary directory\n",
    "dbutils.fs.rm(temp_path, True)\n",
    "\n",
    "print(f\"DataFrame written to single CSV file at {final_path}\")\n"
   ]
  },
  {
   "cell_type": "code",
   "execution_count": 0,
   "metadata": {
    "application/vnd.databricks.v1+cell": {
     "cellMetadata": {
      "byteLimit": 2048000,
      "rowLimit": 10000
     },
     "inputWidgets": {},
     "nuid": "9711414e-e227-4f79-afb6-2c1a46af689f",
     "showTitle": false,
     "title": ""
    }
   },
   "outputs": [
    {
     "output_type": "stream",
     "name": "stdout",
     "output_type": "stream",
     "text": [
      "DataFrame stored in CSV format at /mnt/sam/oecd/outputs/IA_ita2020_matrix_f3a4c0c9.csv\n"
     ]
    }
   ],
   "source": [
    "# This code works but it splits the CSV in multiple files inside a directory\n",
    "\n",
    "# Define the path to store the CSV file in the Unity Catalog volume\n",
    "catalog_name = \"sam\"\n",
    "schema_name = \"oecd\"\n",
    "volume_name = \"outputs\"\n",
    "path = f\"/mnt/{catalog_name}/{schema_name}/{volume_name}/IA_ita2020_matrix_f3a4c0c9.csv\"\n",
    "\n",
    "# Write the DataFrame to CSV format\n",
    "df_matrix.write.option(\"header\", \"true\").csv(path)\n",
    "\n",
    "print(f\"DataFrame stored in CSV format at {path}\")\n"
   ]
  },
  {
   "cell_type": "code",
   "execution_count": 0,
   "metadata": {
    "application/vnd.databricks.v1+cell": {
     "cellMetadata": {
      "byteLimit": 2048000,
      "rowLimit": 10000
     },
     "inputWidgets": {},
     "nuid": "ac26b86b-821f-4d03-8452-0922a8dbb09a",
     "showTitle": false,
     "title": ""
    }
   },
   "outputs": [],
   "source": [
    "# This code works but it splits the CSV in multiple files inside a directory\n",
    "\n",
    "df_matrix.write.format(\"csv\").mode(\"overwrite\").option(\"header\", \"true\").save(\"sam.oecd.outputs/IA_ita2020_matrix_f3a4c0c9.csv\")"
   ]
  }
 ],
 "metadata": {
  "application/vnd.databricks.v1+notebook": {
   "dashboards": [],
   "environmentMetadata": null,
   "language": "python",
   "notebookMetadata": {
    "mostRecentlyExecutedCommandWithImplicitDF": {
     "commandId": 495684668910914,
     "dataframes": [
      "_sqldf"
     ]
    },
    "pythonIndentUnit": 4
   },
   "notebookName": "OECD IA Table View",
   "widgets": {}
  }
 },
 "nbformat": 4,
 "nbformat_minor": 0
}
